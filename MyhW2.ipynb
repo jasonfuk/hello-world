{
  "nbformat": 4,
  "nbformat_minor": 0,
  "metadata": {
    "colab": {
      "provenance": [],
      "authorship_tag": "ABX9TyPdQ761LNmXmnCfJLKgWxZG",
      "include_colab_link": true
    },
    "kernelspec": {
      "name": "python3",
      "display_name": "Python 3"
    },
    "language_info": {
      "name": "python"
    }
  },
  "cells": [
    {
      "cell_type": "markdown",
      "metadata": {
        "id": "view-in-github",
        "colab_type": "text"
      },
      "source": [
        "<a href=\"https://colab.research.google.com/github/jasonfuk/hello-world/blob/master/MyhW2.ipynb\" target=\"_parent\"><img src=\"https://colab.research.google.com/assets/colab-badge.svg\" alt=\"Open In Colab\"/></a>"
      ]
    },
    {
      "cell_type": "code",
      "execution_count": null,
      "metadata": {
        "colab": {
          "base_uri": "https://localhost:8080/"
        },
        "id": "9Igk7dTZD-rw",
        "outputId": "b64d9b70-56d2-428b-ab90-5cc408894011"
      },
      "outputs": [
        {
          "output_type": "stream",
          "name": "stdout",
          "text": [
            "Mounted at /content/gdrive\n",
            "Looking in indexes: https://pypi.org/simple, https://us-python.pkg.dev/colab-wheels/public/simple/\n",
            "Requirement already satisfied: numpy in /usr/local/lib/python3.7/dist-packages (1.21.6)\n",
            "Requirement already satisfied: scipy in /usr/local/lib/python3.7/dist-packages (1.7.3)\n",
            "Requirement already satisfied: pandas in /usr/local/lib/python3.7/dist-packages (1.3.5)\n",
            "Requirement already satisfied: matplotlib in /usr/local/lib/python3.7/dist-packages (3.2.2)\n",
            "Requirement already satisfied: python-dateutil>=2.7.3 in /usr/local/lib/python3.7/dist-packages (from pandas) (2.8.2)\n",
            "Requirement already satisfied: pytz>=2017.3 in /usr/local/lib/python3.7/dist-packages (from pandas) (2022.6)\n",
            "Requirement already satisfied: six>=1.5 in /usr/local/lib/python3.7/dist-packages (from python-dateutil>=2.7.3->pandas) (1.15.0)\n",
            "Requirement already satisfied: kiwisolver>=1.0.1 in /usr/local/lib/python3.7/dist-packages (from matplotlib) (1.4.4)\n",
            "Requirement already satisfied: pyparsing!=2.0.4,!=2.1.2,!=2.1.6,>=2.0.1 in /usr/local/lib/python3.7/dist-packages (from matplotlib) (3.0.9)\n",
            "Requirement already satisfied: cycler>=0.10 in /usr/local/lib/python3.7/dist-packages (from matplotlib) (0.11.0)\n",
            "Requirement already satisfied: typing-extensions in /usr/local/lib/python3.7/dist-packages (from kiwisolver>=1.0.1->matplotlib) (4.1.1)\n"
          ]
        }
      ],
      "source": [
        "from google.colab import drive\n",
        "drive.mount('/content/gdrive')\n",
        "!pip3 install numpy scipy pandas matplotlib\n",
        "import numpy as np\n",
        "import pandas as pd\n",
        "import matplotlib.pyplot as plt\n",
        "\n",
        "from sklearn import tree\n",
        "from sklearn.linear_model import LogisticRegression\n",
        "from sklearn.svm import SVC\n",
        "from sklearn.neighbors import KNeighborsClassifier\n",
        "from sklearn.naive_bayes import GaussianNB\n",
        "from sklearn import metrics\n",
        "# visualization\n",
        "import seaborn as sns\n",
        "import matplotlib.pyplot as plt"
      ]
    },
    {
      "cell_type": "code",
      "source": [
        "myTrain=pd.read_csv('/content/gdrive/MyDrive/MyDATAHW/train.csv', index_col=None)\n",
        "myTest=pd.read_csv('/content/gdrive/MyDrive/MyDATAHW/test.csv', index_col=None)\n"
      ],
      "metadata": {
        "id": "1ETf8JNSEd1d"
      },
      "execution_count": null,
      "outputs": []
    },
    {
      "cell_type": "code",
      "source": [
        "X = myTrain.iloc[:,:-1]\n",
        "Y = myTrain.iloc[:,-1]"
      ],
      "metadata": {
        "id": "8OVuQM50EohT"
      },
      "execution_count": null,
      "outputs": []
    },
    {
      "cell_type": "code",
      "source": [
        "X.shape"
      ],
      "metadata": {
        "colab": {
          "base_uri": "https://localhost:8080/"
        },
        "id": "GiduE2b3EwaN",
        "outputId": "59dd5560-7ebf-4a3c-ed1a-b2df649b0cef"
      },
      "execution_count": null,
      "outputs": [
        {
          "output_type": "execute_result",
          "data": {
            "text/plain": [
              "(17103, 16)"
            ]
          },
          "metadata": {},
          "execution_count": 48
        }
      ]
    },
    {
      "cell_type": "code",
      "source": [
        "Y.shape"
      ],
      "metadata": {
        "colab": {
          "base_uri": "https://localhost:8080/"
        },
        "id": "LuFmwWv-HWJQ",
        "outputId": "dea0caf6-8a40-43bb-883b-2faf2f5de256"
      },
      "execution_count": null,
      "outputs": [
        {
          "output_type": "execute_result",
          "data": {
            "text/plain": [
              "(17103,)"
            ]
          },
          "metadata": {},
          "execution_count": 18
        }
      ]
    },
    {
      "cell_type": "code",
      "source": [
        "X.isnull().mean()"
      ],
      "metadata": {
        "colab": {
          "base_uri": "https://localhost:8080/"
        },
        "id": "p6SgihrXFYMr",
        "outputId": "62c73712-fdf8-43c2-98ea-523d10ee3938"
      },
      "execution_count": null,
      "outputs": [
        {
          "output_type": "execute_result",
          "data": {
            "text/plain": [
              "Attribute1     0.000000\n",
              "Attribute2     0.000000\n",
              "Attribute3     0.004151\n",
              "Attribute4     0.001871\n",
              "Attribute5     0.009414\n",
              "Attribute6     0.432731\n",
              "Attribute7     0.481261\n",
              "Attribute8     0.063907\n",
              "Attribute9     0.063498\n",
              "Attribute10    0.025259\n",
              "Attribute11    0.017892\n",
              "Attribute12    0.024265\n",
              "Attribute13    0.097585\n",
              "Attribute14    0.406478\n",
              "Attribute15    0.017190\n",
              "Attribute16    0.009414\n",
              "dtype: float64"
            ]
          },
          "metadata": {},
          "execution_count": 7
        }
      ]
    },
    {
      "cell_type": "code",
      "source": [
        "Y.isnull().sum()"
      ],
      "metadata": {
        "colab": {
          "base_uri": "https://localhost:8080/"
        },
        "id": "uPkLGkumFfMl",
        "outputId": "061b28cf-a9eb-41c0-b972-5373fee223ab"
      },
      "execution_count": null,
      "outputs": [
        {
          "output_type": "execute_result",
          "data": {
            "text/plain": [
              "0"
            ]
          },
          "metadata": {},
          "execution_count": 8
        }
      ]
    },
    {
      "cell_type": "code",
      "source": [
        "np.unique(Y)"
      ],
      "metadata": {
        "colab": {
          "base_uri": "https://localhost:8080/"
        },
        "id": "sVF5rB4KFiE-",
        "outputId": "bdea9b0b-c387-4d56-a2f1-6e96b3d0ba9a"
      },
      "execution_count": null,
      "outputs": [
        {
          "output_type": "execute_result",
          "data": {
            "text/plain": [
              "array(['No', 'Yes'], dtype=object)"
            ]
          },
          "metadata": {},
          "execution_count": 49
        }
      ]
    },
    {
      "cell_type": "code",
      "source": [
        "#分訓練資料和測試資料\n",
        "from sklearn.model_selection import train_test_split\n",
        "Xtrain, Xtest, Ytrain, Ytest = train_test_split(X,Y,test_size=0.3,random_state=420) #隨機抽取"
      ],
      "metadata": {
        "id": "a521qf2_E_2t"
      },
      "execution_count": null,
      "outputs": []
    },
    {
      "cell_type": "code",
      "source": [
        "Xtrain.shape"
      ],
      "metadata": {
        "colab": {
          "base_uri": "https://localhost:8080/"
        },
        "id": "j23WACG8Ht_c",
        "outputId": "7f88161a-3ac6-40d9-f45b-753432d75627"
      },
      "execution_count": null,
      "outputs": [
        {
          "output_type": "execute_result",
          "data": {
            "text/plain": [
              "(11972, 16)"
            ]
          },
          "metadata": {},
          "execution_count": 51
        }
      ]
    },
    {
      "cell_type": "code",
      "source": [
        "Xtrain.head()"
      ],
      "metadata": {
        "colab": {
          "base_uri": "https://localhost:8080/",
          "height": 270
        },
        "id": "3_7cmj8xHxdx",
        "outputId": "d579eb6f-ce3d-4672-ab65-87df175df447"
      },
      "execution_count": null,
      "outputs": [
        {
          "output_type": "execute_result",
          "data": {
            "text/plain": [
              "       Attribute1  Attribute2  Attribute3  Attribute4  Attribute5  Attribute6  \\\n",
              "6414   2016-03-24          23         8.1        13.0         0.0         NaN   \n",
              "13698  2014-11-22          29        13.8        25.6         0.0         NaN   \n",
              "12310  2016-08-07          28         1.6        17.4         0.0         1.2   \n",
              "1072   2016-02-05          10        19.6        32.4         0.0        11.6   \n",
              "695    2016-01-16           4        13.2        22.7         0.6         NaN   \n",
              "\n",
              "       Attribute7 Attribute8  Attribute9 Attribute10  Attribute11  \\\n",
              "6414          NaN         NW        28.0          NW         11.0   \n",
              "13698         8.9        WSW        43.0          SW         26.0   \n",
              "12310         9.3        NNE        31.0         NNW         20.0   \n",
              "1072          NaN          E        54.0           E         20.0   \n",
              "695           NaN        SSE        43.0         ESE         15.0   \n",
              "\n",
              "       Attribute12  Attribute13  Attribute14  Attribute15 Attribute16  \n",
              "6414          64.0          NaN          NaN         12.5          No  \n",
              "13698         49.0       1013.4          6.0         22.4          No  \n",
              "12310         36.0       1021.7          NaN         16.6          No  \n",
              "1072          27.0       1009.9          1.0         30.9          No  \n",
              "695           74.0       1026.2          NaN         19.9          No  "
            ],
            "text/html": [
              "\n",
              "  <div id=\"df-e1b40e29-5a3c-42a7-9189-fa690eb554a8\">\n",
              "    <div class=\"colab-df-container\">\n",
              "      <div>\n",
              "<style scoped>\n",
              "    .dataframe tbody tr th:only-of-type {\n",
              "        vertical-align: middle;\n",
              "    }\n",
              "\n",
              "    .dataframe tbody tr th {\n",
              "        vertical-align: top;\n",
              "    }\n",
              "\n",
              "    .dataframe thead th {\n",
              "        text-align: right;\n",
              "    }\n",
              "</style>\n",
              "<table border=\"1\" class=\"dataframe\">\n",
              "  <thead>\n",
              "    <tr style=\"text-align: right;\">\n",
              "      <th></th>\n",
              "      <th>Attribute1</th>\n",
              "      <th>Attribute2</th>\n",
              "      <th>Attribute3</th>\n",
              "      <th>Attribute4</th>\n",
              "      <th>Attribute5</th>\n",
              "      <th>Attribute6</th>\n",
              "      <th>Attribute7</th>\n",
              "      <th>Attribute8</th>\n",
              "      <th>Attribute9</th>\n",
              "      <th>Attribute10</th>\n",
              "      <th>Attribute11</th>\n",
              "      <th>Attribute12</th>\n",
              "      <th>Attribute13</th>\n",
              "      <th>Attribute14</th>\n",
              "      <th>Attribute15</th>\n",
              "      <th>Attribute16</th>\n",
              "    </tr>\n",
              "  </thead>\n",
              "  <tbody>\n",
              "    <tr>\n",
              "      <th>6414</th>\n",
              "      <td>2016-03-24</td>\n",
              "      <td>23</td>\n",
              "      <td>8.1</td>\n",
              "      <td>13.0</td>\n",
              "      <td>0.0</td>\n",
              "      <td>NaN</td>\n",
              "      <td>NaN</td>\n",
              "      <td>NW</td>\n",
              "      <td>28.0</td>\n",
              "      <td>NW</td>\n",
              "      <td>11.0</td>\n",
              "      <td>64.0</td>\n",
              "      <td>NaN</td>\n",
              "      <td>NaN</td>\n",
              "      <td>12.5</td>\n",
              "      <td>No</td>\n",
              "    </tr>\n",
              "    <tr>\n",
              "      <th>13698</th>\n",
              "      <td>2014-11-22</td>\n",
              "      <td>29</td>\n",
              "      <td>13.8</td>\n",
              "      <td>25.6</td>\n",
              "      <td>0.0</td>\n",
              "      <td>NaN</td>\n",
              "      <td>8.9</td>\n",
              "      <td>WSW</td>\n",
              "      <td>43.0</td>\n",
              "      <td>SW</td>\n",
              "      <td>26.0</td>\n",
              "      <td>49.0</td>\n",
              "      <td>1013.4</td>\n",
              "      <td>6.0</td>\n",
              "      <td>22.4</td>\n",
              "      <td>No</td>\n",
              "    </tr>\n",
              "    <tr>\n",
              "      <th>12310</th>\n",
              "      <td>2016-08-07</td>\n",
              "      <td>28</td>\n",
              "      <td>1.6</td>\n",
              "      <td>17.4</td>\n",
              "      <td>0.0</td>\n",
              "      <td>1.2</td>\n",
              "      <td>9.3</td>\n",
              "      <td>NNE</td>\n",
              "      <td>31.0</td>\n",
              "      <td>NNW</td>\n",
              "      <td>20.0</td>\n",
              "      <td>36.0</td>\n",
              "      <td>1021.7</td>\n",
              "      <td>NaN</td>\n",
              "      <td>16.6</td>\n",
              "      <td>No</td>\n",
              "    </tr>\n",
              "    <tr>\n",
              "      <th>1072</th>\n",
              "      <td>2016-02-05</td>\n",
              "      <td>10</td>\n",
              "      <td>19.6</td>\n",
              "      <td>32.4</td>\n",
              "      <td>0.0</td>\n",
              "      <td>11.6</td>\n",
              "      <td>NaN</td>\n",
              "      <td>E</td>\n",
              "      <td>54.0</td>\n",
              "      <td>E</td>\n",
              "      <td>20.0</td>\n",
              "      <td>27.0</td>\n",
              "      <td>1009.9</td>\n",
              "      <td>1.0</td>\n",
              "      <td>30.9</td>\n",
              "      <td>No</td>\n",
              "    </tr>\n",
              "    <tr>\n",
              "      <th>695</th>\n",
              "      <td>2016-01-16</td>\n",
              "      <td>4</td>\n",
              "      <td>13.2</td>\n",
              "      <td>22.7</td>\n",
              "      <td>0.6</td>\n",
              "      <td>NaN</td>\n",
              "      <td>NaN</td>\n",
              "      <td>SSE</td>\n",
              "      <td>43.0</td>\n",
              "      <td>ESE</td>\n",
              "      <td>15.0</td>\n",
              "      <td>74.0</td>\n",
              "      <td>1026.2</td>\n",
              "      <td>NaN</td>\n",
              "      <td>19.9</td>\n",
              "      <td>No</td>\n",
              "    </tr>\n",
              "  </tbody>\n",
              "</table>\n",
              "</div>\n",
              "      <button class=\"colab-df-convert\" onclick=\"convertToInteractive('df-e1b40e29-5a3c-42a7-9189-fa690eb554a8')\"\n",
              "              title=\"Convert this dataframe to an interactive table.\"\n",
              "              style=\"display:none;\">\n",
              "        \n",
              "  <svg xmlns=\"http://www.w3.org/2000/svg\" height=\"24px\"viewBox=\"0 0 24 24\"\n",
              "       width=\"24px\">\n",
              "    <path d=\"M0 0h24v24H0V0z\" fill=\"none\"/>\n",
              "    <path d=\"M18.56 5.44l.94 2.06.94-2.06 2.06-.94-2.06-.94-.94-2.06-.94 2.06-2.06.94zm-11 1L8.5 8.5l.94-2.06 2.06-.94-2.06-.94L8.5 2.5l-.94 2.06-2.06.94zm10 10l.94 2.06.94-2.06 2.06-.94-2.06-.94-.94-2.06-.94 2.06-2.06.94z\"/><path d=\"M17.41 7.96l-1.37-1.37c-.4-.4-.92-.59-1.43-.59-.52 0-1.04.2-1.43.59L10.3 9.45l-7.72 7.72c-.78.78-.78 2.05 0 2.83L4 21.41c.39.39.9.59 1.41.59.51 0 1.02-.2 1.41-.59l7.78-7.78 2.81-2.81c.8-.78.8-2.07 0-2.86zM5.41 20L4 18.59l7.72-7.72 1.47 1.35L5.41 20z\"/>\n",
              "  </svg>\n",
              "      </button>\n",
              "      \n",
              "  <style>\n",
              "    .colab-df-container {\n",
              "      display:flex;\n",
              "      flex-wrap:wrap;\n",
              "      gap: 12px;\n",
              "    }\n",
              "\n",
              "    .colab-df-convert {\n",
              "      background-color: #E8F0FE;\n",
              "      border: none;\n",
              "      border-radius: 50%;\n",
              "      cursor: pointer;\n",
              "      display: none;\n",
              "      fill: #1967D2;\n",
              "      height: 32px;\n",
              "      padding: 0 0 0 0;\n",
              "      width: 32px;\n",
              "    }\n",
              "\n",
              "    .colab-df-convert:hover {\n",
              "      background-color: #E2EBFA;\n",
              "      box-shadow: 0px 1px 2px rgba(60, 64, 67, 0.3), 0px 1px 3px 1px rgba(60, 64, 67, 0.15);\n",
              "      fill: #174EA6;\n",
              "    }\n",
              "\n",
              "    [theme=dark] .colab-df-convert {\n",
              "      background-color: #3B4455;\n",
              "      fill: #D2E3FC;\n",
              "    }\n",
              "\n",
              "    [theme=dark] .colab-df-convert:hover {\n",
              "      background-color: #434B5C;\n",
              "      box-shadow: 0px 1px 3px 1px rgba(0, 0, 0, 0.15);\n",
              "      filter: drop-shadow(0px 1px 2px rgba(0, 0, 0, 0.3));\n",
              "      fill: #FFFFFF;\n",
              "    }\n",
              "  </style>\n",
              "\n",
              "      <script>\n",
              "        const buttonEl =\n",
              "          document.querySelector('#df-e1b40e29-5a3c-42a7-9189-fa690eb554a8 button.colab-df-convert');\n",
              "        buttonEl.style.display =\n",
              "          google.colab.kernel.accessAllowed ? 'block' : 'none';\n",
              "\n",
              "        async function convertToInteractive(key) {\n",
              "          const element = document.querySelector('#df-e1b40e29-5a3c-42a7-9189-fa690eb554a8');\n",
              "          const dataTable =\n",
              "            await google.colab.kernel.invokeFunction('convertToInteractive',\n",
              "                                                     [key], {});\n",
              "          if (!dataTable) return;\n",
              "\n",
              "          const docLinkHtml = 'Like what you see? Visit the ' +\n",
              "            '<a target=\"_blank\" href=https://colab.research.google.com/notebooks/data_table.ipynb>data table notebook</a>'\n",
              "            + ' to learn more about interactive tables.';\n",
              "          element.innerHTML = '';\n",
              "          dataTable['output_type'] = 'display_data';\n",
              "          await google.colab.output.renderOutput(dataTable, element);\n",
              "          const docLink = document.createElement('div');\n",
              "          docLink.innerHTML = docLinkHtml;\n",
              "          element.appendChild(docLink);\n",
              "        }\n",
              "      </script>\n",
              "    </div>\n",
              "  </div>\n",
              "  "
            ]
          },
          "metadata": {},
          "execution_count": 52
        }
      ]
    },
    {
      "cell_type": "code",
      "source": [
        "for i in [Xtrain, Xtest, Ytrain, Ytest]:\n",
        "    i.index = range(i.shape[0])"
      ],
      "metadata": {
        "id": "BsSZGVoiH2gS"
      },
      "execution_count": null,
      "outputs": []
    },
    {
      "cell_type": "code",
      "source": [
        "for i in [myTest]:\n",
        "    i.index = range(i.shape[0])"
      ],
      "metadata": {
        "id": "WtuZMgpwSh_s"
      },
      "execution_count": null,
      "outputs": []
    },
    {
      "cell_type": "code",
      "source": [
        "\n",
        "myTest.shape"
      ],
      "metadata": {
        "colab": {
          "base_uri": "https://localhost:8080/"
        },
        "id": "707w11w3S8N3",
        "outputId": "c92e7a5a-4e95-435f-d431-d78f6fc26c89"
      },
      "execution_count": null,
      "outputs": [
        {
          "output_type": "execute_result",
          "data": {
            "text/plain": [
              "(806, 16)"
            ]
          },
          "metadata": {},
          "execution_count": 109
        }
      ]
    },
    {
      "cell_type": "code",
      "source": [
        "#查看样本是否不均衡\n",
        "Ytrain.value_counts()  #发现样本不均衡"
      ],
      "metadata": {
        "colab": {
          "base_uri": "https://localhost:8080/"
        },
        "id": "hb8gRVLyH-sV",
        "outputId": "1be8f2ab-253d-4af6-b631-fb8905b6e071"
      },
      "execution_count": null,
      "outputs": [
        {
          "output_type": "execute_result",
          "data": {
            "text/plain": [
              "No     9751\n",
              "Yes    2221\n",
              "Name: Attribute17, dtype: int64"
            ]
          },
          "metadata": {},
          "execution_count": 54
        }
      ]
    },
    {
      "cell_type": "code",
      "source": [
        "#對標籤編碼\n",
        "from sklearn.preprocessing import LabelEncoder\n",
        "from sklearn.preprocessing import OrdinalEncoder\n",
        "encorder = LabelEncoder().fit(Ytrain)\n",
        "Ytrain = pd.DataFrame(encorder.transform(Ytrain))\n",
        "Ytest = pd.DataFrame(encorder.transform(Ytest))"
      ],
      "metadata": {
        "id": "UchtyIfLH__9"
      },
      "execution_count": null,
      "outputs": []
    },
    {
      "cell_type": "code",
      "source": [
        "encorder.classes_# 查看有几分类\n"
      ],
      "metadata": {
        "colab": {
          "base_uri": "https://localhost:8080/"
        },
        "id": "jxkkbaeVIL9F",
        "outputId": "e66cad47-0721-41af-b55f-ebfe61555eef"
      },
      "execution_count": null,
      "outputs": [
        {
          "output_type": "execute_result",
          "data": {
            "text/plain": [
              "array(['No', 'Yes'], dtype=object)"
            ]
          },
          "metadata": {},
          "execution_count": 56
        }
      ]
    },
    {
      "cell_type": "code",
      "source": [
        "Ytrain.head()"
      ],
      "metadata": {
        "colab": {
          "base_uri": "https://localhost:8080/",
          "height": 206
        },
        "id": "Psil3NKqIQRD",
        "outputId": "3b234e9a-c145-45d9-bf4c-3dea173c569e"
      },
      "execution_count": null,
      "outputs": [
        {
          "output_type": "execute_result",
          "data": {
            "text/plain": [
              "   0\n",
              "0  0\n",
              "1  0\n",
              "2  0\n",
              "3  0\n",
              "4  0"
            ],
            "text/html": [
              "\n",
              "  <div id=\"df-c1d0b214-d2bd-4abf-8ae5-331495e710b2\">\n",
              "    <div class=\"colab-df-container\">\n",
              "      <div>\n",
              "<style scoped>\n",
              "    .dataframe tbody tr th:only-of-type {\n",
              "        vertical-align: middle;\n",
              "    }\n",
              "\n",
              "    .dataframe tbody tr th {\n",
              "        vertical-align: top;\n",
              "    }\n",
              "\n",
              "    .dataframe thead th {\n",
              "        text-align: right;\n",
              "    }\n",
              "</style>\n",
              "<table border=\"1\" class=\"dataframe\">\n",
              "  <thead>\n",
              "    <tr style=\"text-align: right;\">\n",
              "      <th></th>\n",
              "      <th>0</th>\n",
              "    </tr>\n",
              "  </thead>\n",
              "  <tbody>\n",
              "    <tr>\n",
              "      <th>0</th>\n",
              "      <td>0</td>\n",
              "    </tr>\n",
              "    <tr>\n",
              "      <th>1</th>\n",
              "      <td>0</td>\n",
              "    </tr>\n",
              "    <tr>\n",
              "      <th>2</th>\n",
              "      <td>0</td>\n",
              "    </tr>\n",
              "    <tr>\n",
              "      <th>3</th>\n",
              "      <td>0</td>\n",
              "    </tr>\n",
              "    <tr>\n",
              "      <th>4</th>\n",
              "      <td>0</td>\n",
              "    </tr>\n",
              "  </tbody>\n",
              "</table>\n",
              "</div>\n",
              "      <button class=\"colab-df-convert\" onclick=\"convertToInteractive('df-c1d0b214-d2bd-4abf-8ae5-331495e710b2')\"\n",
              "              title=\"Convert this dataframe to an interactive table.\"\n",
              "              style=\"display:none;\">\n",
              "        \n",
              "  <svg xmlns=\"http://www.w3.org/2000/svg\" height=\"24px\"viewBox=\"0 0 24 24\"\n",
              "       width=\"24px\">\n",
              "    <path d=\"M0 0h24v24H0V0z\" fill=\"none\"/>\n",
              "    <path d=\"M18.56 5.44l.94 2.06.94-2.06 2.06-.94-2.06-.94-.94-2.06-.94 2.06-2.06.94zm-11 1L8.5 8.5l.94-2.06 2.06-.94-2.06-.94L8.5 2.5l-.94 2.06-2.06.94zm10 10l.94 2.06.94-2.06 2.06-.94-2.06-.94-.94-2.06-.94 2.06-2.06.94z\"/><path d=\"M17.41 7.96l-1.37-1.37c-.4-.4-.92-.59-1.43-.59-.52 0-1.04.2-1.43.59L10.3 9.45l-7.72 7.72c-.78.78-.78 2.05 0 2.83L4 21.41c.39.39.9.59 1.41.59.51 0 1.02-.2 1.41-.59l7.78-7.78 2.81-2.81c.8-.78.8-2.07 0-2.86zM5.41 20L4 18.59l7.72-7.72 1.47 1.35L5.41 20z\"/>\n",
              "  </svg>\n",
              "      </button>\n",
              "      \n",
              "  <style>\n",
              "    .colab-df-container {\n",
              "      display:flex;\n",
              "      flex-wrap:wrap;\n",
              "      gap: 12px;\n",
              "    }\n",
              "\n",
              "    .colab-df-convert {\n",
              "      background-color: #E8F0FE;\n",
              "      border: none;\n",
              "      border-radius: 50%;\n",
              "      cursor: pointer;\n",
              "      display: none;\n",
              "      fill: #1967D2;\n",
              "      height: 32px;\n",
              "      padding: 0 0 0 0;\n",
              "      width: 32px;\n",
              "    }\n",
              "\n",
              "    .colab-df-convert:hover {\n",
              "      background-color: #E2EBFA;\n",
              "      box-shadow: 0px 1px 2px rgba(60, 64, 67, 0.3), 0px 1px 3px 1px rgba(60, 64, 67, 0.15);\n",
              "      fill: #174EA6;\n",
              "    }\n",
              "\n",
              "    [theme=dark] .colab-df-convert {\n",
              "      background-color: #3B4455;\n",
              "      fill: #D2E3FC;\n",
              "    }\n",
              "\n",
              "    [theme=dark] .colab-df-convert:hover {\n",
              "      background-color: #434B5C;\n",
              "      box-shadow: 0px 1px 3px 1px rgba(0, 0, 0, 0.15);\n",
              "      filter: drop-shadow(0px 1px 2px rgba(0, 0, 0, 0.3));\n",
              "      fill: #FFFFFF;\n",
              "    }\n",
              "  </style>\n",
              "\n",
              "      <script>\n",
              "        const buttonEl =\n",
              "          document.querySelector('#df-c1d0b214-d2bd-4abf-8ae5-331495e710b2 button.colab-df-convert');\n",
              "        buttonEl.style.display =\n",
              "          google.colab.kernel.accessAllowed ? 'block' : 'none';\n",
              "\n",
              "        async function convertToInteractive(key) {\n",
              "          const element = document.querySelector('#df-c1d0b214-d2bd-4abf-8ae5-331495e710b2');\n",
              "          const dataTable =\n",
              "            await google.colab.kernel.invokeFunction('convertToInteractive',\n",
              "                                                     [key], {});\n",
              "          if (!dataTable) return;\n",
              "\n",
              "          const docLinkHtml = 'Like what you see? Visit the ' +\n",
              "            '<a target=\"_blank\" href=https://colab.research.google.com/notebooks/data_table.ipynb>data table notebook</a>'\n",
              "            + ' to learn more about interactive tables.';\n",
              "          element.innerHTML = '';\n",
              "          dataTable['output_type'] = 'display_data';\n",
              "          await google.colab.output.renderOutput(dataTable, element);\n",
              "          const docLink = document.createElement('div');\n",
              "          docLink.innerHTML = docLinkHtml;\n",
              "          element.appendChild(docLink);\n",
              "        }\n",
              "      </script>\n",
              "    </div>\n",
              "  </div>\n",
              "  "
            ]
          },
          "metadata": {},
          "execution_count": 27
        }
      ]
    },
    {
      "cell_type": "code",
      "source": [
        "#对特征矩阵进行处理\n",
        "#描述性统计\n",
        "#describe只能对数值型数据进行描述\n",
        "Xtrain.describe([0.01,0.05,0.1,0.25,0.5,0.75,0.9,0.99]).T"
      ],
      "metadata": {
        "colab": {
          "base_uri": "https://localhost:8080/",
          "height": 490
        },
        "id": "QjSuH-pLIUDl",
        "outputId": "011f0ae9-0cee-4693-e2cd-f1f6f6183f44"
      },
      "execution_count": null,
      "outputs": [
        {
          "output_type": "execute_result",
          "data": {
            "text/plain": [
              "               count         mean        std    min       1%      5%     10%  \\\n",
              "Attribute2   11972.0    23.669312  14.245857    0.0    0.000     2.0     4.0   \n",
              "Attribute3   11914.0    12.115100   6.375230   -8.0   -1.887     1.7     3.8   \n",
              "Attribute4   11945.0    23.355463   7.110431   -2.9    9.388    13.0    14.6   \n",
              "Attribute5   11854.0     2.161515   7.592546    0.0    0.000     0.0     0.0   \n",
              "Attribute6    6813.0     5.522252   4.174146    0.0    0.400     1.0     1.4   \n",
              "Attribute7    6222.0     7.816361   3.717399    0.0    0.000     0.5     1.8   \n",
              "Attribute9   11217.0    39.656860  13.393549    9.0   15.000    20.0    24.0   \n",
              "Attribute11  11751.0    18.553825   8.696391    0.0    2.000     6.0     9.0   \n",
              "Attribute12  11683.0    50.347342  20.458698    1.0    8.000    16.0    22.0   \n",
              "Attribute13  10783.0  1015.459779   7.034767  977.1  998.882  1004.4  1006.7   \n",
              "Attribute14   7137.0     4.408295   2.711001    0.0    0.000     0.0     1.0   \n",
              "Attribute15  11762.0    21.852449   6.944015   -3.8    7.900    11.7    13.4   \n",
              "\n",
              "                25%     50%     75%     90%       99%     max  \n",
              "Attribute2     11.0    23.0    36.0    44.0    48.000    48.0  \n",
              "Attribute3      7.5    12.0    16.8    20.6    25.600    31.0  \n",
              "Attribute4     18.0    22.8    28.5    33.0    40.056    47.0  \n",
              "Attribute5      0.0     0.0     0.6     5.6    36.294   147.2  \n",
              "Attribute6      2.6     4.8     7.4    10.2    17.776    81.2  \n",
              "Attribute7      5.2     8.7    10.7    12.1    13.400    14.3  \n",
              "Attribute9     31.0    39.0    46.0    57.0    80.000   109.0  \n",
              "Attribute11    13.0    19.0    24.0    30.0    43.000    72.0  \n",
              "Attribute12    36.0    51.0    64.0    77.0    97.000   100.0  \n",
              "Attribute13  1010.6  1015.5  1020.2  1024.4  1031.618  1037.9  \n",
              "Attribute14     2.0     5.0     7.0     8.0     8.000     8.0  \n",
              "Attribute15    16.8    21.3    26.6    31.3    38.500    45.8  "
            ],
            "text/html": [
              "\n",
              "  <div id=\"df-bdc90442-5b10-4525-8263-5e814f10d14b\">\n",
              "    <div class=\"colab-df-container\">\n",
              "      <div>\n",
              "<style scoped>\n",
              "    .dataframe tbody tr th:only-of-type {\n",
              "        vertical-align: middle;\n",
              "    }\n",
              "\n",
              "    .dataframe tbody tr th {\n",
              "        vertical-align: top;\n",
              "    }\n",
              "\n",
              "    .dataframe thead th {\n",
              "        text-align: right;\n",
              "    }\n",
              "</style>\n",
              "<table border=\"1\" class=\"dataframe\">\n",
              "  <thead>\n",
              "    <tr style=\"text-align: right;\">\n",
              "      <th></th>\n",
              "      <th>count</th>\n",
              "      <th>mean</th>\n",
              "      <th>std</th>\n",
              "      <th>min</th>\n",
              "      <th>1%</th>\n",
              "      <th>5%</th>\n",
              "      <th>10%</th>\n",
              "      <th>25%</th>\n",
              "      <th>50%</th>\n",
              "      <th>75%</th>\n",
              "      <th>90%</th>\n",
              "      <th>99%</th>\n",
              "      <th>max</th>\n",
              "    </tr>\n",
              "  </thead>\n",
              "  <tbody>\n",
              "    <tr>\n",
              "      <th>Attribute2</th>\n",
              "      <td>11972.0</td>\n",
              "      <td>23.669312</td>\n",
              "      <td>14.245857</td>\n",
              "      <td>0.0</td>\n",
              "      <td>0.000</td>\n",
              "      <td>2.0</td>\n",
              "      <td>4.0</td>\n",
              "      <td>11.0</td>\n",
              "      <td>23.0</td>\n",
              "      <td>36.0</td>\n",
              "      <td>44.0</td>\n",
              "      <td>48.000</td>\n",
              "      <td>48.0</td>\n",
              "    </tr>\n",
              "    <tr>\n",
              "      <th>Attribute3</th>\n",
              "      <td>11914.0</td>\n",
              "      <td>12.115100</td>\n",
              "      <td>6.375230</td>\n",
              "      <td>-8.0</td>\n",
              "      <td>-1.887</td>\n",
              "      <td>1.7</td>\n",
              "      <td>3.8</td>\n",
              "      <td>7.5</td>\n",
              "      <td>12.0</td>\n",
              "      <td>16.8</td>\n",
              "      <td>20.6</td>\n",
              "      <td>25.600</td>\n",
              "      <td>31.0</td>\n",
              "    </tr>\n",
              "    <tr>\n",
              "      <th>Attribute4</th>\n",
              "      <td>11945.0</td>\n",
              "      <td>23.355463</td>\n",
              "      <td>7.110431</td>\n",
              "      <td>-2.9</td>\n",
              "      <td>9.388</td>\n",
              "      <td>13.0</td>\n",
              "      <td>14.6</td>\n",
              "      <td>18.0</td>\n",
              "      <td>22.8</td>\n",
              "      <td>28.5</td>\n",
              "      <td>33.0</td>\n",
              "      <td>40.056</td>\n",
              "      <td>47.0</td>\n",
              "    </tr>\n",
              "    <tr>\n",
              "      <th>Attribute5</th>\n",
              "      <td>11854.0</td>\n",
              "      <td>2.161515</td>\n",
              "      <td>7.592546</td>\n",
              "      <td>0.0</td>\n",
              "      <td>0.000</td>\n",
              "      <td>0.0</td>\n",
              "      <td>0.0</td>\n",
              "      <td>0.0</td>\n",
              "      <td>0.0</td>\n",
              "      <td>0.6</td>\n",
              "      <td>5.6</td>\n",
              "      <td>36.294</td>\n",
              "      <td>147.2</td>\n",
              "    </tr>\n",
              "    <tr>\n",
              "      <th>Attribute6</th>\n",
              "      <td>6813.0</td>\n",
              "      <td>5.522252</td>\n",
              "      <td>4.174146</td>\n",
              "      <td>0.0</td>\n",
              "      <td>0.400</td>\n",
              "      <td>1.0</td>\n",
              "      <td>1.4</td>\n",
              "      <td>2.6</td>\n",
              "      <td>4.8</td>\n",
              "      <td>7.4</td>\n",
              "      <td>10.2</td>\n",
              "      <td>17.776</td>\n",
              "      <td>81.2</td>\n",
              "    </tr>\n",
              "    <tr>\n",
              "      <th>Attribute7</th>\n",
              "      <td>6222.0</td>\n",
              "      <td>7.816361</td>\n",
              "      <td>3.717399</td>\n",
              "      <td>0.0</td>\n",
              "      <td>0.000</td>\n",
              "      <td>0.5</td>\n",
              "      <td>1.8</td>\n",
              "      <td>5.2</td>\n",
              "      <td>8.7</td>\n",
              "      <td>10.7</td>\n",
              "      <td>12.1</td>\n",
              "      <td>13.400</td>\n",
              "      <td>14.3</td>\n",
              "    </tr>\n",
              "    <tr>\n",
              "      <th>Attribute9</th>\n",
              "      <td>11217.0</td>\n",
              "      <td>39.656860</td>\n",
              "      <td>13.393549</td>\n",
              "      <td>9.0</td>\n",
              "      <td>15.000</td>\n",
              "      <td>20.0</td>\n",
              "      <td>24.0</td>\n",
              "      <td>31.0</td>\n",
              "      <td>39.0</td>\n",
              "      <td>46.0</td>\n",
              "      <td>57.0</td>\n",
              "      <td>80.000</td>\n",
              "      <td>109.0</td>\n",
              "    </tr>\n",
              "    <tr>\n",
              "      <th>Attribute11</th>\n",
              "      <td>11751.0</td>\n",
              "      <td>18.553825</td>\n",
              "      <td>8.696391</td>\n",
              "      <td>0.0</td>\n",
              "      <td>2.000</td>\n",
              "      <td>6.0</td>\n",
              "      <td>9.0</td>\n",
              "      <td>13.0</td>\n",
              "      <td>19.0</td>\n",
              "      <td>24.0</td>\n",
              "      <td>30.0</td>\n",
              "      <td>43.000</td>\n",
              "      <td>72.0</td>\n",
              "    </tr>\n",
              "    <tr>\n",
              "      <th>Attribute12</th>\n",
              "      <td>11683.0</td>\n",
              "      <td>50.347342</td>\n",
              "      <td>20.458698</td>\n",
              "      <td>1.0</td>\n",
              "      <td>8.000</td>\n",
              "      <td>16.0</td>\n",
              "      <td>22.0</td>\n",
              "      <td>36.0</td>\n",
              "      <td>51.0</td>\n",
              "      <td>64.0</td>\n",
              "      <td>77.0</td>\n",
              "      <td>97.000</td>\n",
              "      <td>100.0</td>\n",
              "    </tr>\n",
              "    <tr>\n",
              "      <th>Attribute13</th>\n",
              "      <td>10783.0</td>\n",
              "      <td>1015.459779</td>\n",
              "      <td>7.034767</td>\n",
              "      <td>977.1</td>\n",
              "      <td>998.882</td>\n",
              "      <td>1004.4</td>\n",
              "      <td>1006.7</td>\n",
              "      <td>1010.6</td>\n",
              "      <td>1015.5</td>\n",
              "      <td>1020.2</td>\n",
              "      <td>1024.4</td>\n",
              "      <td>1031.618</td>\n",
              "      <td>1037.9</td>\n",
              "    </tr>\n",
              "    <tr>\n",
              "      <th>Attribute14</th>\n",
              "      <td>7137.0</td>\n",
              "      <td>4.408295</td>\n",
              "      <td>2.711001</td>\n",
              "      <td>0.0</td>\n",
              "      <td>0.000</td>\n",
              "      <td>0.0</td>\n",
              "      <td>1.0</td>\n",
              "      <td>2.0</td>\n",
              "      <td>5.0</td>\n",
              "      <td>7.0</td>\n",
              "      <td>8.0</td>\n",
              "      <td>8.000</td>\n",
              "      <td>8.0</td>\n",
              "    </tr>\n",
              "    <tr>\n",
              "      <th>Attribute15</th>\n",
              "      <td>11762.0</td>\n",
              "      <td>21.852449</td>\n",
              "      <td>6.944015</td>\n",
              "      <td>-3.8</td>\n",
              "      <td>7.900</td>\n",
              "      <td>11.7</td>\n",
              "      <td>13.4</td>\n",
              "      <td>16.8</td>\n",
              "      <td>21.3</td>\n",
              "      <td>26.6</td>\n",
              "      <td>31.3</td>\n",
              "      <td>38.500</td>\n",
              "      <td>45.8</td>\n",
              "    </tr>\n",
              "  </tbody>\n",
              "</table>\n",
              "</div>\n",
              "      <button class=\"colab-df-convert\" onclick=\"convertToInteractive('df-bdc90442-5b10-4525-8263-5e814f10d14b')\"\n",
              "              title=\"Convert this dataframe to an interactive table.\"\n",
              "              style=\"display:none;\">\n",
              "        \n",
              "  <svg xmlns=\"http://www.w3.org/2000/svg\" height=\"24px\"viewBox=\"0 0 24 24\"\n",
              "       width=\"24px\">\n",
              "    <path d=\"M0 0h24v24H0V0z\" fill=\"none\"/>\n",
              "    <path d=\"M18.56 5.44l.94 2.06.94-2.06 2.06-.94-2.06-.94-.94-2.06-.94 2.06-2.06.94zm-11 1L8.5 8.5l.94-2.06 2.06-.94-2.06-.94L8.5 2.5l-.94 2.06-2.06.94zm10 10l.94 2.06.94-2.06 2.06-.94-2.06-.94-.94-2.06-.94 2.06-2.06.94z\"/><path d=\"M17.41 7.96l-1.37-1.37c-.4-.4-.92-.59-1.43-.59-.52 0-1.04.2-1.43.59L10.3 9.45l-7.72 7.72c-.78.78-.78 2.05 0 2.83L4 21.41c.39.39.9.59 1.41.59.51 0 1.02-.2 1.41-.59l7.78-7.78 2.81-2.81c.8-.78.8-2.07 0-2.86zM5.41 20L4 18.59l7.72-7.72 1.47 1.35L5.41 20z\"/>\n",
              "  </svg>\n",
              "      </button>\n",
              "      \n",
              "  <style>\n",
              "    .colab-df-container {\n",
              "      display:flex;\n",
              "      flex-wrap:wrap;\n",
              "      gap: 12px;\n",
              "    }\n",
              "\n",
              "    .colab-df-convert {\n",
              "      background-color: #E8F0FE;\n",
              "      border: none;\n",
              "      border-radius: 50%;\n",
              "      cursor: pointer;\n",
              "      display: none;\n",
              "      fill: #1967D2;\n",
              "      height: 32px;\n",
              "      padding: 0 0 0 0;\n",
              "      width: 32px;\n",
              "    }\n",
              "\n",
              "    .colab-df-convert:hover {\n",
              "      background-color: #E2EBFA;\n",
              "      box-shadow: 0px 1px 2px rgba(60, 64, 67, 0.3), 0px 1px 3px 1px rgba(60, 64, 67, 0.15);\n",
              "      fill: #174EA6;\n",
              "    }\n",
              "\n",
              "    [theme=dark] .colab-df-convert {\n",
              "      background-color: #3B4455;\n",
              "      fill: #D2E3FC;\n",
              "    }\n",
              "\n",
              "    [theme=dark] .colab-df-convert:hover {\n",
              "      background-color: #434B5C;\n",
              "      box-shadow: 0px 1px 3px 1px rgba(0, 0, 0, 0.15);\n",
              "      filter: drop-shadow(0px 1px 2px rgba(0, 0, 0, 0.3));\n",
              "      fill: #FFFFFF;\n",
              "    }\n",
              "  </style>\n",
              "\n",
              "      <script>\n",
              "        const buttonEl =\n",
              "          document.querySelector('#df-bdc90442-5b10-4525-8263-5e814f10d14b button.colab-df-convert');\n",
              "        buttonEl.style.display =\n",
              "          google.colab.kernel.accessAllowed ? 'block' : 'none';\n",
              "\n",
              "        async function convertToInteractive(key) {\n",
              "          const element = document.querySelector('#df-bdc90442-5b10-4525-8263-5e814f10d14b');\n",
              "          const dataTable =\n",
              "            await google.colab.kernel.invokeFunction('convertToInteractive',\n",
              "                                                     [key], {});\n",
              "          if (!dataTable) return;\n",
              "\n",
              "          const docLinkHtml = 'Like what you see? Visit the ' +\n",
              "            '<a target=\"_blank\" href=https://colab.research.google.com/notebooks/data_table.ipynb>data table notebook</a>'\n",
              "            + ' to learn more about interactive tables.';\n",
              "          element.innerHTML = '';\n",
              "          dataTable['output_type'] = 'display_data';\n",
              "          await google.colab.output.renderOutput(dataTable, element);\n",
              "          const docLink = document.createElement('div');\n",
              "          docLink.innerHTML = docLinkHtml;\n",
              "          element.appendChild(docLink);\n",
              "        }\n",
              "      </script>\n",
              "    </div>\n",
              "  </div>\n",
              "  "
            ]
          },
          "metadata": {},
          "execution_count": 57
        }
      ]
    },
    {
      "cell_type": "code",
      "source": [
        "col = Xtrain.mean().index"
      ],
      "metadata": {
        "colab": {
          "base_uri": "https://localhost:8080/"
        },
        "id": "UQ-MidXuIYem",
        "outputId": "88135c36-1996-4bd1-cd92-71e156847bba"
      },
      "execution_count": null,
      "outputs": [
        {
          "output_type": "stream",
          "name": "stderr",
          "text": [
            "/usr/local/lib/python3.7/dist-packages/ipykernel_launcher.py:1: FutureWarning: Dropping of nuisance columns in DataFrame reductions (with 'numeric_only=None') is deprecated; in a future version this will raise TypeError.  Select only valid columns before calling the reduction.\n",
            "  \"\"\"Entry point for launching an IPython kernel.\n"
          ]
        }
      ]
    },
    {
      "cell_type": "code",
      "source": [
        "Xtest.describe([0.01,0.05,0.1,0.25,0.5,0.75,0.9,0.99]).T\n"
      ],
      "metadata": {
        "colab": {
          "base_uri": "https://localhost:8080/",
          "height": 490
        },
        "id": "qfO6rGhFIcYu",
        "outputId": "f3da5e95-f4ab-42a3-9fb7-54e2080afb67"
      },
      "execution_count": null,
      "outputs": [
        {
          "output_type": "execute_result",
          "data": {
            "text/plain": [
              "              count         mean        std    min     1%      5%     10%  \\\n",
              "Attribute2   5131.0    23.803937  14.550073    0.0    0.0     2.0     4.0   \n",
              "Attribute3   5118.0    12.044256   6.377130   -8.5   -1.9     1.8     3.8   \n",
              "Attribute4   5126.0    23.240051   7.045357    0.1    9.7    12.9    14.5   \n",
              "Attribute5   5088.0     2.167217   8.276109    0.0    0.0     0.0     0.0   \n",
              "Attribute6   2889.0     5.463274   4.474168    0.0    0.4     0.8     1.4   \n",
              "Attribute7   2650.0     7.719396   3.691860    0.0    0.0     0.6     1.7   \n",
              "Attribute9   4800.0    39.462500  13.565345    7.0   15.0    20.0    24.0   \n",
              "Attribute11  5046.0    18.492073   8.782576    0.0    2.0     6.0     7.0   \n",
              "Attribute12  5005.0    50.659341  20.300226    1.0    8.0    17.0    23.0   \n",
              "Attribute13  4651.0  1015.578284   6.964499  982.2  998.9  1004.4  1006.9   \n",
              "Attribute14  3014.0     4.420040   2.701319    0.0    0.0     0.0     1.0   \n",
              "Attribute15  5047.0    21.741114   6.863797   -1.9    8.3    11.7    13.4   \n",
              "\n",
              "                25%      50%      75%      90%       99%     max  \n",
              "Attribute2     11.0    24.00    36.00    44.00    48.000    48.0  \n",
              "Attribute3      7.5    11.90    16.60    20.53    25.800    29.9  \n",
              "Attribute4     18.1    22.50    28.10    32.70    40.000    46.5  \n",
              "Attribute5      0.0     0.00     0.60     5.20    33.052   156.0  \n",
              "Attribute6      2.6     4.60     7.20    10.20    19.048    77.3  \n",
              "Attribute7      5.1     8.55    10.70    12.00    13.400    14.0  \n",
              "Attribute9     30.0    37.00    46.00    57.00    81.000   126.0  \n",
              "Attribute11    13.0    17.00    24.00    30.00    43.000    72.0  \n",
              "Attribute12    36.0    51.00    65.00    77.00    96.000   100.0  \n",
              "Attribute13  1010.9  1015.50  1020.30  1024.50  1032.100  1038.9  \n",
              "Attribute14     2.0     5.00     7.00     8.00     8.000     8.0  \n",
              "Attribute15    16.7    21.10    26.35    31.10    38.554    45.3  "
            ],
            "text/html": [
              "\n",
              "  <div id=\"df-3b007de5-0b8d-45f6-9c9c-c5e31bdeeb3b\">\n",
              "    <div class=\"colab-df-container\">\n",
              "      <div>\n",
              "<style scoped>\n",
              "    .dataframe tbody tr th:only-of-type {\n",
              "        vertical-align: middle;\n",
              "    }\n",
              "\n",
              "    .dataframe tbody tr th {\n",
              "        vertical-align: top;\n",
              "    }\n",
              "\n",
              "    .dataframe thead th {\n",
              "        text-align: right;\n",
              "    }\n",
              "</style>\n",
              "<table border=\"1\" class=\"dataframe\">\n",
              "  <thead>\n",
              "    <tr style=\"text-align: right;\">\n",
              "      <th></th>\n",
              "      <th>count</th>\n",
              "      <th>mean</th>\n",
              "      <th>std</th>\n",
              "      <th>min</th>\n",
              "      <th>1%</th>\n",
              "      <th>5%</th>\n",
              "      <th>10%</th>\n",
              "      <th>25%</th>\n",
              "      <th>50%</th>\n",
              "      <th>75%</th>\n",
              "      <th>90%</th>\n",
              "      <th>99%</th>\n",
              "      <th>max</th>\n",
              "    </tr>\n",
              "  </thead>\n",
              "  <tbody>\n",
              "    <tr>\n",
              "      <th>Attribute2</th>\n",
              "      <td>5131.0</td>\n",
              "      <td>23.803937</td>\n",
              "      <td>14.550073</td>\n",
              "      <td>0.0</td>\n",
              "      <td>0.0</td>\n",
              "      <td>2.0</td>\n",
              "      <td>4.0</td>\n",
              "      <td>11.0</td>\n",
              "      <td>24.00</td>\n",
              "      <td>36.00</td>\n",
              "      <td>44.00</td>\n",
              "      <td>48.000</td>\n",
              "      <td>48.0</td>\n",
              "    </tr>\n",
              "    <tr>\n",
              "      <th>Attribute3</th>\n",
              "      <td>5118.0</td>\n",
              "      <td>12.044256</td>\n",
              "      <td>6.377130</td>\n",
              "      <td>-8.5</td>\n",
              "      <td>-1.9</td>\n",
              "      <td>1.8</td>\n",
              "      <td>3.8</td>\n",
              "      <td>7.5</td>\n",
              "      <td>11.90</td>\n",
              "      <td>16.60</td>\n",
              "      <td>20.53</td>\n",
              "      <td>25.800</td>\n",
              "      <td>29.9</td>\n",
              "    </tr>\n",
              "    <tr>\n",
              "      <th>Attribute4</th>\n",
              "      <td>5126.0</td>\n",
              "      <td>23.240051</td>\n",
              "      <td>7.045357</td>\n",
              "      <td>0.1</td>\n",
              "      <td>9.7</td>\n",
              "      <td>12.9</td>\n",
              "      <td>14.5</td>\n",
              "      <td>18.1</td>\n",
              "      <td>22.50</td>\n",
              "      <td>28.10</td>\n",
              "      <td>32.70</td>\n",
              "      <td>40.000</td>\n",
              "      <td>46.5</td>\n",
              "    </tr>\n",
              "    <tr>\n",
              "      <th>Attribute5</th>\n",
              "      <td>5088.0</td>\n",
              "      <td>2.167217</td>\n",
              "      <td>8.276109</td>\n",
              "      <td>0.0</td>\n",
              "      <td>0.0</td>\n",
              "      <td>0.0</td>\n",
              "      <td>0.0</td>\n",
              "      <td>0.0</td>\n",
              "      <td>0.00</td>\n",
              "      <td>0.60</td>\n",
              "      <td>5.20</td>\n",
              "      <td>33.052</td>\n",
              "      <td>156.0</td>\n",
              "    </tr>\n",
              "    <tr>\n",
              "      <th>Attribute6</th>\n",
              "      <td>2889.0</td>\n",
              "      <td>5.463274</td>\n",
              "      <td>4.474168</td>\n",
              "      <td>0.0</td>\n",
              "      <td>0.4</td>\n",
              "      <td>0.8</td>\n",
              "      <td>1.4</td>\n",
              "      <td>2.6</td>\n",
              "      <td>4.60</td>\n",
              "      <td>7.20</td>\n",
              "      <td>10.20</td>\n",
              "      <td>19.048</td>\n",
              "      <td>77.3</td>\n",
              "    </tr>\n",
              "    <tr>\n",
              "      <th>Attribute7</th>\n",
              "      <td>2650.0</td>\n",
              "      <td>7.719396</td>\n",
              "      <td>3.691860</td>\n",
              "      <td>0.0</td>\n",
              "      <td>0.0</td>\n",
              "      <td>0.6</td>\n",
              "      <td>1.7</td>\n",
              "      <td>5.1</td>\n",
              "      <td>8.55</td>\n",
              "      <td>10.70</td>\n",
              "      <td>12.00</td>\n",
              "      <td>13.400</td>\n",
              "      <td>14.0</td>\n",
              "    </tr>\n",
              "    <tr>\n",
              "      <th>Attribute9</th>\n",
              "      <td>4800.0</td>\n",
              "      <td>39.462500</td>\n",
              "      <td>13.565345</td>\n",
              "      <td>7.0</td>\n",
              "      <td>15.0</td>\n",
              "      <td>20.0</td>\n",
              "      <td>24.0</td>\n",
              "      <td>30.0</td>\n",
              "      <td>37.00</td>\n",
              "      <td>46.00</td>\n",
              "      <td>57.00</td>\n",
              "      <td>81.000</td>\n",
              "      <td>126.0</td>\n",
              "    </tr>\n",
              "    <tr>\n",
              "      <th>Attribute11</th>\n",
              "      <td>5046.0</td>\n",
              "      <td>18.492073</td>\n",
              "      <td>8.782576</td>\n",
              "      <td>0.0</td>\n",
              "      <td>2.0</td>\n",
              "      <td>6.0</td>\n",
              "      <td>7.0</td>\n",
              "      <td>13.0</td>\n",
              "      <td>17.00</td>\n",
              "      <td>24.00</td>\n",
              "      <td>30.00</td>\n",
              "      <td>43.000</td>\n",
              "      <td>72.0</td>\n",
              "    </tr>\n",
              "    <tr>\n",
              "      <th>Attribute12</th>\n",
              "      <td>5005.0</td>\n",
              "      <td>50.659341</td>\n",
              "      <td>20.300226</td>\n",
              "      <td>1.0</td>\n",
              "      <td>8.0</td>\n",
              "      <td>17.0</td>\n",
              "      <td>23.0</td>\n",
              "      <td>36.0</td>\n",
              "      <td>51.00</td>\n",
              "      <td>65.00</td>\n",
              "      <td>77.00</td>\n",
              "      <td>96.000</td>\n",
              "      <td>100.0</td>\n",
              "    </tr>\n",
              "    <tr>\n",
              "      <th>Attribute13</th>\n",
              "      <td>4651.0</td>\n",
              "      <td>1015.578284</td>\n",
              "      <td>6.964499</td>\n",
              "      <td>982.2</td>\n",
              "      <td>998.9</td>\n",
              "      <td>1004.4</td>\n",
              "      <td>1006.9</td>\n",
              "      <td>1010.9</td>\n",
              "      <td>1015.50</td>\n",
              "      <td>1020.30</td>\n",
              "      <td>1024.50</td>\n",
              "      <td>1032.100</td>\n",
              "      <td>1038.9</td>\n",
              "    </tr>\n",
              "    <tr>\n",
              "      <th>Attribute14</th>\n",
              "      <td>3014.0</td>\n",
              "      <td>4.420040</td>\n",
              "      <td>2.701319</td>\n",
              "      <td>0.0</td>\n",
              "      <td>0.0</td>\n",
              "      <td>0.0</td>\n",
              "      <td>1.0</td>\n",
              "      <td>2.0</td>\n",
              "      <td>5.00</td>\n",
              "      <td>7.00</td>\n",
              "      <td>8.00</td>\n",
              "      <td>8.000</td>\n",
              "      <td>8.0</td>\n",
              "    </tr>\n",
              "    <tr>\n",
              "      <th>Attribute15</th>\n",
              "      <td>5047.0</td>\n",
              "      <td>21.741114</td>\n",
              "      <td>6.863797</td>\n",
              "      <td>-1.9</td>\n",
              "      <td>8.3</td>\n",
              "      <td>11.7</td>\n",
              "      <td>13.4</td>\n",
              "      <td>16.7</td>\n",
              "      <td>21.10</td>\n",
              "      <td>26.35</td>\n",
              "      <td>31.10</td>\n",
              "      <td>38.554</td>\n",
              "      <td>45.3</td>\n",
              "    </tr>\n",
              "  </tbody>\n",
              "</table>\n",
              "</div>\n",
              "      <button class=\"colab-df-convert\" onclick=\"convertToInteractive('df-3b007de5-0b8d-45f6-9c9c-c5e31bdeeb3b')\"\n",
              "              title=\"Convert this dataframe to an interactive table.\"\n",
              "              style=\"display:none;\">\n",
              "        \n",
              "  <svg xmlns=\"http://www.w3.org/2000/svg\" height=\"24px\"viewBox=\"0 0 24 24\"\n",
              "       width=\"24px\">\n",
              "    <path d=\"M0 0h24v24H0V0z\" fill=\"none\"/>\n",
              "    <path d=\"M18.56 5.44l.94 2.06.94-2.06 2.06-.94-2.06-.94-.94-2.06-.94 2.06-2.06.94zm-11 1L8.5 8.5l.94-2.06 2.06-.94-2.06-.94L8.5 2.5l-.94 2.06-2.06.94zm10 10l.94 2.06.94-2.06 2.06-.94-2.06-.94-.94-2.06-.94 2.06-2.06.94z\"/><path d=\"M17.41 7.96l-1.37-1.37c-.4-.4-.92-.59-1.43-.59-.52 0-1.04.2-1.43.59L10.3 9.45l-7.72 7.72c-.78.78-.78 2.05 0 2.83L4 21.41c.39.39.9.59 1.41.59.51 0 1.02-.2 1.41-.59l7.78-7.78 2.81-2.81c.8-.78.8-2.07 0-2.86zM5.41 20L4 18.59l7.72-7.72 1.47 1.35L5.41 20z\"/>\n",
              "  </svg>\n",
              "      </button>\n",
              "      \n",
              "  <style>\n",
              "    .colab-df-container {\n",
              "      display:flex;\n",
              "      flex-wrap:wrap;\n",
              "      gap: 12px;\n",
              "    }\n",
              "\n",
              "    .colab-df-convert {\n",
              "      background-color: #E8F0FE;\n",
              "      border: none;\n",
              "      border-radius: 50%;\n",
              "      cursor: pointer;\n",
              "      display: none;\n",
              "      fill: #1967D2;\n",
              "      height: 32px;\n",
              "      padding: 0 0 0 0;\n",
              "      width: 32px;\n",
              "    }\n",
              "\n",
              "    .colab-df-convert:hover {\n",
              "      background-color: #E2EBFA;\n",
              "      box-shadow: 0px 1px 2px rgba(60, 64, 67, 0.3), 0px 1px 3px 1px rgba(60, 64, 67, 0.15);\n",
              "      fill: #174EA6;\n",
              "    }\n",
              "\n",
              "    [theme=dark] .colab-df-convert {\n",
              "      background-color: #3B4455;\n",
              "      fill: #D2E3FC;\n",
              "    }\n",
              "\n",
              "    [theme=dark] .colab-df-convert:hover {\n",
              "      background-color: #434B5C;\n",
              "      box-shadow: 0px 1px 3px 1px rgba(0, 0, 0, 0.15);\n",
              "      filter: drop-shadow(0px 1px 2px rgba(0, 0, 0, 0.3));\n",
              "      fill: #FFFFFF;\n",
              "    }\n",
              "  </style>\n",
              "\n",
              "      <script>\n",
              "        const buttonEl =\n",
              "          document.querySelector('#df-3b007de5-0b8d-45f6-9c9c-c5e31bdeeb3b button.colab-df-convert');\n",
              "        buttonEl.style.display =\n",
              "          google.colab.kernel.accessAllowed ? 'block' : 'none';\n",
              "\n",
              "        async function convertToInteractive(key) {\n",
              "          const element = document.querySelector('#df-3b007de5-0b8d-45f6-9c9c-c5e31bdeeb3b');\n",
              "          const dataTable =\n",
              "            await google.colab.kernel.invokeFunction('convertToInteractive',\n",
              "                                                     [key], {});\n",
              "          if (!dataTable) return;\n",
              "\n",
              "          const docLinkHtml = 'Like what you see? Visit the ' +\n",
              "            '<a target=\"_blank\" href=https://colab.research.google.com/notebooks/data_table.ipynb>data table notebook</a>'\n",
              "            + ' to learn more about interactive tables.';\n",
              "          element.innerHTML = '';\n",
              "          dataTable['output_type'] = 'display_data';\n",
              "          await google.colab.output.renderOutput(dataTable, element);\n",
              "          const docLink = document.createElement('div');\n",
              "          docLink.innerHTML = docLinkHtml;\n",
              "          element.appendChild(docLink);\n",
              "        }\n",
              "      </script>\n",
              "    </div>\n",
              "  </div>\n",
              "  "
            ]
          },
          "metadata": {},
          "execution_count": 59
        }
      ]
    },
    {
      "cell_type": "code",
      "source": [
        "# Attribute1是當天日期，我選擇drop該col\n",
        "Xtrain.drop(['Attribute1'],axis = 1,inplace = True)"
      ],
      "metadata": {
        "colab": {
          "base_uri": "https://localhost:8080/",
          "height": 313
        },
        "id": "Z3inU0eNJLmG",
        "outputId": "1a904060-aa9f-495f-9a6f-af29b995cf17"
      },
      "execution_count": null,
      "outputs": [
        {
          "output_type": "error",
          "ename": "KeyError",
          "evalue": "ignored",
          "traceback": [
            "\u001b[0;31m---------------------------------------------------------------------------\u001b[0m",
            "\u001b[0;31mKeyError\u001b[0m                                  Traceback (most recent call last)",
            "\u001b[0;32m<ipython-input-111-df11f0ec2952>\u001b[0m in \u001b[0;36m<module>\u001b[0;34m\u001b[0m\n\u001b[0;32m----> 1\u001b[0;31m \u001b[0mXtrain\u001b[0m\u001b[0;34m.\u001b[0m\u001b[0mdrop\u001b[0m\u001b[0;34m(\u001b[0m\u001b[0;34m[\u001b[0m\u001b[0;34m'Attribute1'\u001b[0m\u001b[0;34m]\u001b[0m\u001b[0;34m,\u001b[0m\u001b[0maxis\u001b[0m \u001b[0;34m=\u001b[0m \u001b[0;36m1\u001b[0m\u001b[0;34m,\u001b[0m\u001b[0minplace\u001b[0m \u001b[0;34m=\u001b[0m \u001b[0;32mTrue\u001b[0m\u001b[0;34m)\u001b[0m\u001b[0;34m\u001b[0m\u001b[0;34m\u001b[0m\u001b[0m\n\u001b[0m",
            "\u001b[0;32m/usr/local/lib/python3.7/dist-packages/pandas/util/_decorators.py\u001b[0m in \u001b[0;36mwrapper\u001b[0;34m(*args, **kwargs)\u001b[0m\n\u001b[1;32m    309\u001b[0m                     \u001b[0mstacklevel\u001b[0m\u001b[0;34m=\u001b[0m\u001b[0mstacklevel\u001b[0m\u001b[0;34m,\u001b[0m\u001b[0;34m\u001b[0m\u001b[0;34m\u001b[0m\u001b[0m\n\u001b[1;32m    310\u001b[0m                 )\n\u001b[0;32m--> 311\u001b[0;31m             \u001b[0;32mreturn\u001b[0m \u001b[0mfunc\u001b[0m\u001b[0;34m(\u001b[0m\u001b[0;34m*\u001b[0m\u001b[0margs\u001b[0m\u001b[0;34m,\u001b[0m \u001b[0;34m**\u001b[0m\u001b[0mkwargs\u001b[0m\u001b[0;34m)\u001b[0m\u001b[0;34m\u001b[0m\u001b[0;34m\u001b[0m\u001b[0m\n\u001b[0m\u001b[1;32m    312\u001b[0m \u001b[0;34m\u001b[0m\u001b[0m\n\u001b[1;32m    313\u001b[0m         \u001b[0;32mreturn\u001b[0m \u001b[0mwrapper\u001b[0m\u001b[0;34m\u001b[0m\u001b[0;34m\u001b[0m\u001b[0m\n",
            "\u001b[0;32m/usr/local/lib/python3.7/dist-packages/pandas/core/frame.py\u001b[0m in \u001b[0;36mdrop\u001b[0;34m(self, labels, axis, index, columns, level, inplace, errors)\u001b[0m\n\u001b[1;32m   4911\u001b[0m             \u001b[0mlevel\u001b[0m\u001b[0;34m=\u001b[0m\u001b[0mlevel\u001b[0m\u001b[0;34m,\u001b[0m\u001b[0;34m\u001b[0m\u001b[0;34m\u001b[0m\u001b[0m\n\u001b[1;32m   4912\u001b[0m             \u001b[0minplace\u001b[0m\u001b[0;34m=\u001b[0m\u001b[0minplace\u001b[0m\u001b[0;34m,\u001b[0m\u001b[0;34m\u001b[0m\u001b[0;34m\u001b[0m\u001b[0m\n\u001b[0;32m-> 4913\u001b[0;31m             \u001b[0merrors\u001b[0m\u001b[0;34m=\u001b[0m\u001b[0merrors\u001b[0m\u001b[0;34m,\u001b[0m\u001b[0;34m\u001b[0m\u001b[0;34m\u001b[0m\u001b[0m\n\u001b[0m\u001b[1;32m   4914\u001b[0m         )\n\u001b[1;32m   4915\u001b[0m \u001b[0;34m\u001b[0m\u001b[0m\n",
            "\u001b[0;32m/usr/local/lib/python3.7/dist-packages/pandas/core/generic.py\u001b[0m in \u001b[0;36mdrop\u001b[0;34m(self, labels, axis, index, columns, level, inplace, errors)\u001b[0m\n\u001b[1;32m   4148\u001b[0m         \u001b[0;32mfor\u001b[0m \u001b[0maxis\u001b[0m\u001b[0;34m,\u001b[0m \u001b[0mlabels\u001b[0m \u001b[0;32min\u001b[0m \u001b[0maxes\u001b[0m\u001b[0;34m.\u001b[0m\u001b[0mitems\u001b[0m\u001b[0;34m(\u001b[0m\u001b[0;34m)\u001b[0m\u001b[0;34m:\u001b[0m\u001b[0;34m\u001b[0m\u001b[0;34m\u001b[0m\u001b[0m\n\u001b[1;32m   4149\u001b[0m             \u001b[0;32mif\u001b[0m \u001b[0mlabels\u001b[0m \u001b[0;32mis\u001b[0m \u001b[0;32mnot\u001b[0m \u001b[0;32mNone\u001b[0m\u001b[0;34m:\u001b[0m\u001b[0;34m\u001b[0m\u001b[0;34m\u001b[0m\u001b[0m\n\u001b[0;32m-> 4150\u001b[0;31m                 \u001b[0mobj\u001b[0m \u001b[0;34m=\u001b[0m \u001b[0mobj\u001b[0m\u001b[0;34m.\u001b[0m\u001b[0m_drop_axis\u001b[0m\u001b[0;34m(\u001b[0m\u001b[0mlabels\u001b[0m\u001b[0;34m,\u001b[0m \u001b[0maxis\u001b[0m\u001b[0;34m,\u001b[0m \u001b[0mlevel\u001b[0m\u001b[0;34m=\u001b[0m\u001b[0mlevel\u001b[0m\u001b[0;34m,\u001b[0m \u001b[0merrors\u001b[0m\u001b[0;34m=\u001b[0m\u001b[0merrors\u001b[0m\u001b[0;34m)\u001b[0m\u001b[0;34m\u001b[0m\u001b[0;34m\u001b[0m\u001b[0m\n\u001b[0m\u001b[1;32m   4151\u001b[0m \u001b[0;34m\u001b[0m\u001b[0m\n\u001b[1;32m   4152\u001b[0m         \u001b[0;32mif\u001b[0m \u001b[0minplace\u001b[0m\u001b[0;34m:\u001b[0m\u001b[0;34m\u001b[0m\u001b[0;34m\u001b[0m\u001b[0m\n",
            "\u001b[0;32m/usr/local/lib/python3.7/dist-packages/pandas/core/generic.py\u001b[0m in \u001b[0;36m_drop_axis\u001b[0;34m(self, labels, axis, level, errors)\u001b[0m\n\u001b[1;32m   4183\u001b[0m                 \u001b[0mnew_axis\u001b[0m \u001b[0;34m=\u001b[0m \u001b[0maxis\u001b[0m\u001b[0;34m.\u001b[0m\u001b[0mdrop\u001b[0m\u001b[0;34m(\u001b[0m\u001b[0mlabels\u001b[0m\u001b[0;34m,\u001b[0m \u001b[0mlevel\u001b[0m\u001b[0;34m=\u001b[0m\u001b[0mlevel\u001b[0m\u001b[0;34m,\u001b[0m \u001b[0merrors\u001b[0m\u001b[0;34m=\u001b[0m\u001b[0merrors\u001b[0m\u001b[0;34m)\u001b[0m\u001b[0;34m\u001b[0m\u001b[0;34m\u001b[0m\u001b[0m\n\u001b[1;32m   4184\u001b[0m             \u001b[0;32melse\u001b[0m\u001b[0;34m:\u001b[0m\u001b[0;34m\u001b[0m\u001b[0;34m\u001b[0m\u001b[0m\n\u001b[0;32m-> 4185\u001b[0;31m                 \u001b[0mnew_axis\u001b[0m \u001b[0;34m=\u001b[0m \u001b[0maxis\u001b[0m\u001b[0;34m.\u001b[0m\u001b[0mdrop\u001b[0m\u001b[0;34m(\u001b[0m\u001b[0mlabels\u001b[0m\u001b[0;34m,\u001b[0m \u001b[0merrors\u001b[0m\u001b[0;34m=\u001b[0m\u001b[0merrors\u001b[0m\u001b[0;34m)\u001b[0m\u001b[0;34m\u001b[0m\u001b[0;34m\u001b[0m\u001b[0m\n\u001b[0m\u001b[1;32m   4186\u001b[0m             \u001b[0mresult\u001b[0m \u001b[0;34m=\u001b[0m \u001b[0mself\u001b[0m\u001b[0;34m.\u001b[0m\u001b[0mreindex\u001b[0m\u001b[0;34m(\u001b[0m\u001b[0;34m**\u001b[0m\u001b[0;34m{\u001b[0m\u001b[0maxis_name\u001b[0m\u001b[0;34m:\u001b[0m \u001b[0mnew_axis\u001b[0m\u001b[0;34m}\u001b[0m\u001b[0;34m)\u001b[0m\u001b[0;34m\u001b[0m\u001b[0;34m\u001b[0m\u001b[0m\n\u001b[1;32m   4187\u001b[0m \u001b[0;34m\u001b[0m\u001b[0m\n",
            "\u001b[0;32m/usr/local/lib/python3.7/dist-packages/pandas/core/indexes/base.py\u001b[0m in \u001b[0;36mdrop\u001b[0;34m(self, labels, errors)\u001b[0m\n\u001b[1;32m   6015\u001b[0m         \u001b[0;32mif\u001b[0m \u001b[0mmask\u001b[0m\u001b[0;34m.\u001b[0m\u001b[0many\u001b[0m\u001b[0;34m(\u001b[0m\u001b[0;34m)\u001b[0m\u001b[0;34m:\u001b[0m\u001b[0;34m\u001b[0m\u001b[0;34m\u001b[0m\u001b[0m\n\u001b[1;32m   6016\u001b[0m             \u001b[0;32mif\u001b[0m \u001b[0merrors\u001b[0m \u001b[0;34m!=\u001b[0m \u001b[0;34m\"ignore\"\u001b[0m\u001b[0;34m:\u001b[0m\u001b[0;34m\u001b[0m\u001b[0;34m\u001b[0m\u001b[0m\n\u001b[0;32m-> 6017\u001b[0;31m                 \u001b[0;32mraise\u001b[0m \u001b[0mKeyError\u001b[0m\u001b[0;34m(\u001b[0m\u001b[0;34mf\"{labels[mask]} not found in axis\"\u001b[0m\u001b[0;34m)\u001b[0m\u001b[0;34m\u001b[0m\u001b[0;34m\u001b[0m\u001b[0m\n\u001b[0m\u001b[1;32m   6018\u001b[0m             \u001b[0mindexer\u001b[0m \u001b[0;34m=\u001b[0m \u001b[0mindexer\u001b[0m\u001b[0;34m[\u001b[0m\u001b[0;34m~\u001b[0m\u001b[0mmask\u001b[0m\u001b[0;34m]\u001b[0m\u001b[0;34m\u001b[0m\u001b[0;34m\u001b[0m\u001b[0m\n\u001b[1;32m   6019\u001b[0m         \u001b[0;32mreturn\u001b[0m \u001b[0mself\u001b[0m\u001b[0;34m.\u001b[0m\u001b[0mdelete\u001b[0m\u001b[0;34m(\u001b[0m\u001b[0mindexer\u001b[0m\u001b[0;34m)\u001b[0m\u001b[0;34m\u001b[0m\u001b[0;34m\u001b[0m\u001b[0m\n",
            "\u001b[0;31mKeyError\u001b[0m: \"['Attribute1'] not found in axis\""
          ]
        }
      ]
    },
    {
      "cell_type": "code",
      "source": [
        "# Attribute2是當天日期，我選擇drop該col\n",
        "Xtrain.drop(['Attribute2'],axis = 1,inplace = True)"
      ],
      "metadata": {
        "id": "e3Jse61YPOvv"
      },
      "execution_count": null,
      "outputs": []
    },
    {
      "cell_type": "code",
      "source": [
        "Xtest.drop(['Attribute1'],axis = 1,inplace = True)"
      ],
      "metadata": {
        "id": "7B_GAYGDJeKy"
      },
      "execution_count": null,
      "outputs": []
    },
    {
      "cell_type": "code",
      "source": [
        "Xtest.drop(['Attribute2'],axis = 1,inplace = True)"
      ],
      "metadata": {
        "id": "oUzMn-JePQWR"
      },
      "execution_count": null,
      "outputs": []
    },
    {
      "cell_type": "code",
      "source": [
        "myTest.drop(['Attribute2','Attribute1'],axis = 1,inplace = True)"
      ],
      "metadata": {
        "id": "hrsiuChNTyep"
      },
      "execution_count": null,
      "outputs": []
    },
    {
      "cell_type": "code",
      "source": [
        "myTest.head()"
      ],
      "metadata": {
        "colab": {
          "base_uri": "https://localhost:8080/",
          "height": 270
        },
        "id": "uVmZFlUiUMp6",
        "outputId": "25c67804-fdd9-49f3-93bd-87f223571bfd"
      },
      "execution_count": null,
      "outputs": [
        {
          "output_type": "execute_result",
          "data": {
            "text/plain": [
              "   Attribute3  Attribute4  Attribute5  Attribute6  Attribute7 Attribute8  \\\n",
              "0        10.5        19.5         0.2         3.4         2.9        NNE   \n",
              "1         8.7        17.7         0.0        13.0         9.7        WSW   \n",
              "2        17.5        33.5         0.0        13.6        12.5        WSW   \n",
              "3        18.5        30.3         0.0         8.6        11.4          S   \n",
              "4         9.4        13.3         4.6         1.8         0.0         SW   \n",
              "\n",
              "   Attribute9 Attribute10  Attribute11  Attribute12  Attribute13  Attribute14  \\\n",
              "0        28.0         WNW          7.0         56.0       1011.5          8.0   \n",
              "1        63.0           W         31.0         24.0       1011.4          5.0   \n",
              "2        39.0          NW          9.0         13.0       1012.0          1.0   \n",
              "3        28.0           S         13.0         18.0       1017.5          1.0   \n",
              "4        39.0           W         11.0         83.0       1007.9          7.0   \n",
              "\n",
              "   Attribute15 Attribute16  \n",
              "0         16.8          No  \n",
              "1         16.3          No  \n",
              "2         30.7          No  \n",
              "3         28.8          No  \n",
              "4         13.2         Yes  "
            ],
            "text/html": [
              "\n",
              "  <div id=\"df-14b4f7b7-94e8-4a42-98d9-a3f13743a481\">\n",
              "    <div class=\"colab-df-container\">\n",
              "      <div>\n",
              "<style scoped>\n",
              "    .dataframe tbody tr th:only-of-type {\n",
              "        vertical-align: middle;\n",
              "    }\n",
              "\n",
              "    .dataframe tbody tr th {\n",
              "        vertical-align: top;\n",
              "    }\n",
              "\n",
              "    .dataframe thead th {\n",
              "        text-align: right;\n",
              "    }\n",
              "</style>\n",
              "<table border=\"1\" class=\"dataframe\">\n",
              "  <thead>\n",
              "    <tr style=\"text-align: right;\">\n",
              "      <th></th>\n",
              "      <th>Attribute3</th>\n",
              "      <th>Attribute4</th>\n",
              "      <th>Attribute5</th>\n",
              "      <th>Attribute6</th>\n",
              "      <th>Attribute7</th>\n",
              "      <th>Attribute8</th>\n",
              "      <th>Attribute9</th>\n",
              "      <th>Attribute10</th>\n",
              "      <th>Attribute11</th>\n",
              "      <th>Attribute12</th>\n",
              "      <th>Attribute13</th>\n",
              "      <th>Attribute14</th>\n",
              "      <th>Attribute15</th>\n",
              "      <th>Attribute16</th>\n",
              "    </tr>\n",
              "  </thead>\n",
              "  <tbody>\n",
              "    <tr>\n",
              "      <th>0</th>\n",
              "      <td>10.5</td>\n",
              "      <td>19.5</td>\n",
              "      <td>0.2</td>\n",
              "      <td>3.4</td>\n",
              "      <td>2.9</td>\n",
              "      <td>NNE</td>\n",
              "      <td>28.0</td>\n",
              "      <td>WNW</td>\n",
              "      <td>7.0</td>\n",
              "      <td>56.0</td>\n",
              "      <td>1011.5</td>\n",
              "      <td>8.0</td>\n",
              "      <td>16.8</td>\n",
              "      <td>No</td>\n",
              "    </tr>\n",
              "    <tr>\n",
              "      <th>1</th>\n",
              "      <td>8.7</td>\n",
              "      <td>17.7</td>\n",
              "      <td>0.0</td>\n",
              "      <td>13.0</td>\n",
              "      <td>9.7</td>\n",
              "      <td>WSW</td>\n",
              "      <td>63.0</td>\n",
              "      <td>W</td>\n",
              "      <td>31.0</td>\n",
              "      <td>24.0</td>\n",
              "      <td>1011.4</td>\n",
              "      <td>5.0</td>\n",
              "      <td>16.3</td>\n",
              "      <td>No</td>\n",
              "    </tr>\n",
              "    <tr>\n",
              "      <th>2</th>\n",
              "      <td>17.5</td>\n",
              "      <td>33.5</td>\n",
              "      <td>0.0</td>\n",
              "      <td>13.6</td>\n",
              "      <td>12.5</td>\n",
              "      <td>WSW</td>\n",
              "      <td>39.0</td>\n",
              "      <td>NW</td>\n",
              "      <td>9.0</td>\n",
              "      <td>13.0</td>\n",
              "      <td>1012.0</td>\n",
              "      <td>1.0</td>\n",
              "      <td>30.7</td>\n",
              "      <td>No</td>\n",
              "    </tr>\n",
              "    <tr>\n",
              "      <th>3</th>\n",
              "      <td>18.5</td>\n",
              "      <td>30.3</td>\n",
              "      <td>0.0</td>\n",
              "      <td>8.6</td>\n",
              "      <td>11.4</td>\n",
              "      <td>S</td>\n",
              "      <td>28.0</td>\n",
              "      <td>S</td>\n",
              "      <td>13.0</td>\n",
              "      <td>18.0</td>\n",
              "      <td>1017.5</td>\n",
              "      <td>1.0</td>\n",
              "      <td>28.8</td>\n",
              "      <td>No</td>\n",
              "    </tr>\n",
              "    <tr>\n",
              "      <th>4</th>\n",
              "      <td>9.4</td>\n",
              "      <td>13.3</td>\n",
              "      <td>4.6</td>\n",
              "      <td>1.8</td>\n",
              "      <td>0.0</td>\n",
              "      <td>SW</td>\n",
              "      <td>39.0</td>\n",
              "      <td>W</td>\n",
              "      <td>11.0</td>\n",
              "      <td>83.0</td>\n",
              "      <td>1007.9</td>\n",
              "      <td>7.0</td>\n",
              "      <td>13.2</td>\n",
              "      <td>Yes</td>\n",
              "    </tr>\n",
              "  </tbody>\n",
              "</table>\n",
              "</div>\n",
              "      <button class=\"colab-df-convert\" onclick=\"convertToInteractive('df-14b4f7b7-94e8-4a42-98d9-a3f13743a481')\"\n",
              "              title=\"Convert this dataframe to an interactive table.\"\n",
              "              style=\"display:none;\">\n",
              "        \n",
              "  <svg xmlns=\"http://www.w3.org/2000/svg\" height=\"24px\"viewBox=\"0 0 24 24\"\n",
              "       width=\"24px\">\n",
              "    <path d=\"M0 0h24v24H0V0z\" fill=\"none\"/>\n",
              "    <path d=\"M18.56 5.44l.94 2.06.94-2.06 2.06-.94-2.06-.94-.94-2.06-.94 2.06-2.06.94zm-11 1L8.5 8.5l.94-2.06 2.06-.94-2.06-.94L8.5 2.5l-.94 2.06-2.06.94zm10 10l.94 2.06.94-2.06 2.06-.94-2.06-.94-.94-2.06-.94 2.06-2.06.94z\"/><path d=\"M17.41 7.96l-1.37-1.37c-.4-.4-.92-.59-1.43-.59-.52 0-1.04.2-1.43.59L10.3 9.45l-7.72 7.72c-.78.78-.78 2.05 0 2.83L4 21.41c.39.39.9.59 1.41.59.51 0 1.02-.2 1.41-.59l7.78-7.78 2.81-2.81c.8-.78.8-2.07 0-2.86zM5.41 20L4 18.59l7.72-7.72 1.47 1.35L5.41 20z\"/>\n",
              "  </svg>\n",
              "      </button>\n",
              "      \n",
              "  <style>\n",
              "    .colab-df-container {\n",
              "      display:flex;\n",
              "      flex-wrap:wrap;\n",
              "      gap: 12px;\n",
              "    }\n",
              "\n",
              "    .colab-df-convert {\n",
              "      background-color: #E8F0FE;\n",
              "      border: none;\n",
              "      border-radius: 50%;\n",
              "      cursor: pointer;\n",
              "      display: none;\n",
              "      fill: #1967D2;\n",
              "      height: 32px;\n",
              "      padding: 0 0 0 0;\n",
              "      width: 32px;\n",
              "    }\n",
              "\n",
              "    .colab-df-convert:hover {\n",
              "      background-color: #E2EBFA;\n",
              "      box-shadow: 0px 1px 2px rgba(60, 64, 67, 0.3), 0px 1px 3px 1px rgba(60, 64, 67, 0.15);\n",
              "      fill: #174EA6;\n",
              "    }\n",
              "\n",
              "    [theme=dark] .colab-df-convert {\n",
              "      background-color: #3B4455;\n",
              "      fill: #D2E3FC;\n",
              "    }\n",
              "\n",
              "    [theme=dark] .colab-df-convert:hover {\n",
              "      background-color: #434B5C;\n",
              "      box-shadow: 0px 1px 3px 1px rgba(0, 0, 0, 0.15);\n",
              "      filter: drop-shadow(0px 1px 2px rgba(0, 0, 0, 0.3));\n",
              "      fill: #FFFFFF;\n",
              "    }\n",
              "  </style>\n",
              "\n",
              "      <script>\n",
              "        const buttonEl =\n",
              "          document.querySelector('#df-14b4f7b7-94e8-4a42-98d9-a3f13743a481 button.colab-df-convert');\n",
              "        buttonEl.style.display =\n",
              "          google.colab.kernel.accessAllowed ? 'block' : 'none';\n",
              "\n",
              "        async function convertToInteractive(key) {\n",
              "          const element = document.querySelector('#df-14b4f7b7-94e8-4a42-98d9-a3f13743a481');\n",
              "          const dataTable =\n",
              "            await google.colab.kernel.invokeFunction('convertToInteractive',\n",
              "                                                     [key], {});\n",
              "          if (!dataTable) return;\n",
              "\n",
              "          const docLinkHtml = 'Like what you see? Visit the ' +\n",
              "            '<a target=\"_blank\" href=https://colab.research.google.com/notebooks/data_table.ipynb>data table notebook</a>'\n",
              "            + ' to learn more about interactive tables.';\n",
              "          element.innerHTML = '';\n",
              "          dataTable['output_type'] = 'display_data';\n",
              "          await google.colab.output.renderOutput(dataTable, element);\n",
              "          const docLink = document.createElement('div');\n",
              "          docLink.innerHTML = docLinkHtml;\n",
              "          element.appendChild(docLink);\n",
              "        }\n",
              "      </script>\n",
              "    </div>\n",
              "  </div>\n",
              "  "
            ]
          },
          "metadata": {},
          "execution_count": 116
        }
      ]
    },
    {
      "cell_type": "code",
      "source": [
        "# Attribute5為降雨量，如果大於1當日降雨設為Yes\n",
        "Xtrain.loc[Xtrain[\"Attribute5\"] >= 1,\"Attribute16\"] = \"Yes\"\n",
        "Xtrain.loc[Xtrain[\"Attribute5\"] < 1,\"Attribute16\"] = \"No\"\n",
        "Xtrain.loc[Xtrain[\"Attribute5\"] == np.nan,\"Attribute16\"] = np.nan"
      ],
      "metadata": {
        "id": "xkGV-OcKJ54n"
      },
      "execution_count": null,
      "outputs": []
    },
    {
      "cell_type": "code",
      "source": [
        "Xtrain.head()"
      ],
      "metadata": {
        "colab": {
          "base_uri": "https://localhost:8080/",
          "height": 270
        },
        "id": "oFWYUO2bKSpy",
        "outputId": "9ffde85a-6692-40af-f670-bd373982f79e"
      },
      "execution_count": null,
      "outputs": [
        {
          "output_type": "execute_result",
          "data": {
            "text/plain": [
              "   Attribute2  Attribute3  Attribute4  Attribute5  Attribute6  Attribute7  \\\n",
              "0          23         8.1        13.0         0.0         NaN         NaN   \n",
              "1          29        13.8        25.6         0.0         NaN         8.9   \n",
              "2          28         1.6        17.4         0.0         1.2         9.3   \n",
              "3          10        19.6        32.4         0.0        11.6         NaN   \n",
              "4           4        13.2        22.7         0.6         NaN         NaN   \n",
              "\n",
              "  Attribute8  Attribute9 Attribute10  Attribute11  Attribute12  Attribute13  \\\n",
              "0         NW        28.0          NW         11.0         64.0          NaN   \n",
              "1        WSW        43.0          SW         26.0         49.0       1013.4   \n",
              "2        NNE        31.0         NNW         20.0         36.0       1021.7   \n",
              "3          E        54.0           E         20.0         27.0       1009.9   \n",
              "4        SSE        43.0         ESE         15.0         74.0       1026.2   \n",
              "\n",
              "   Attribute14  Attribute15 Attribute16  \n",
              "0          NaN         12.5          No  \n",
              "1          6.0         22.4          No  \n",
              "2          NaN         16.6          No  \n",
              "3          1.0         30.9          No  \n",
              "4          NaN         19.9          No  "
            ],
            "text/html": [
              "\n",
              "  <div id=\"df-7dae23eb-7b7d-4359-b7fd-c872e80fd884\">\n",
              "    <div class=\"colab-df-container\">\n",
              "      <div>\n",
              "<style scoped>\n",
              "    .dataframe tbody tr th:only-of-type {\n",
              "        vertical-align: middle;\n",
              "    }\n",
              "\n",
              "    .dataframe tbody tr th {\n",
              "        vertical-align: top;\n",
              "    }\n",
              "\n",
              "    .dataframe thead th {\n",
              "        text-align: right;\n",
              "    }\n",
              "</style>\n",
              "<table border=\"1\" class=\"dataframe\">\n",
              "  <thead>\n",
              "    <tr style=\"text-align: right;\">\n",
              "      <th></th>\n",
              "      <th>Attribute2</th>\n",
              "      <th>Attribute3</th>\n",
              "      <th>Attribute4</th>\n",
              "      <th>Attribute5</th>\n",
              "      <th>Attribute6</th>\n",
              "      <th>Attribute7</th>\n",
              "      <th>Attribute8</th>\n",
              "      <th>Attribute9</th>\n",
              "      <th>Attribute10</th>\n",
              "      <th>Attribute11</th>\n",
              "      <th>Attribute12</th>\n",
              "      <th>Attribute13</th>\n",
              "      <th>Attribute14</th>\n",
              "      <th>Attribute15</th>\n",
              "      <th>Attribute16</th>\n",
              "    </tr>\n",
              "  </thead>\n",
              "  <tbody>\n",
              "    <tr>\n",
              "      <th>0</th>\n",
              "      <td>23</td>\n",
              "      <td>8.1</td>\n",
              "      <td>13.0</td>\n",
              "      <td>0.0</td>\n",
              "      <td>NaN</td>\n",
              "      <td>NaN</td>\n",
              "      <td>NW</td>\n",
              "      <td>28.0</td>\n",
              "      <td>NW</td>\n",
              "      <td>11.0</td>\n",
              "      <td>64.0</td>\n",
              "      <td>NaN</td>\n",
              "      <td>NaN</td>\n",
              "      <td>12.5</td>\n",
              "      <td>No</td>\n",
              "    </tr>\n",
              "    <tr>\n",
              "      <th>1</th>\n",
              "      <td>29</td>\n",
              "      <td>13.8</td>\n",
              "      <td>25.6</td>\n",
              "      <td>0.0</td>\n",
              "      <td>NaN</td>\n",
              "      <td>8.9</td>\n",
              "      <td>WSW</td>\n",
              "      <td>43.0</td>\n",
              "      <td>SW</td>\n",
              "      <td>26.0</td>\n",
              "      <td>49.0</td>\n",
              "      <td>1013.4</td>\n",
              "      <td>6.0</td>\n",
              "      <td>22.4</td>\n",
              "      <td>No</td>\n",
              "    </tr>\n",
              "    <tr>\n",
              "      <th>2</th>\n",
              "      <td>28</td>\n",
              "      <td>1.6</td>\n",
              "      <td>17.4</td>\n",
              "      <td>0.0</td>\n",
              "      <td>1.2</td>\n",
              "      <td>9.3</td>\n",
              "      <td>NNE</td>\n",
              "      <td>31.0</td>\n",
              "      <td>NNW</td>\n",
              "      <td>20.0</td>\n",
              "      <td>36.0</td>\n",
              "      <td>1021.7</td>\n",
              "      <td>NaN</td>\n",
              "      <td>16.6</td>\n",
              "      <td>No</td>\n",
              "    </tr>\n",
              "    <tr>\n",
              "      <th>3</th>\n",
              "      <td>10</td>\n",
              "      <td>19.6</td>\n",
              "      <td>32.4</td>\n",
              "      <td>0.0</td>\n",
              "      <td>11.6</td>\n",
              "      <td>NaN</td>\n",
              "      <td>E</td>\n",
              "      <td>54.0</td>\n",
              "      <td>E</td>\n",
              "      <td>20.0</td>\n",
              "      <td>27.0</td>\n",
              "      <td>1009.9</td>\n",
              "      <td>1.0</td>\n",
              "      <td>30.9</td>\n",
              "      <td>No</td>\n",
              "    </tr>\n",
              "    <tr>\n",
              "      <th>4</th>\n",
              "      <td>4</td>\n",
              "      <td>13.2</td>\n",
              "      <td>22.7</td>\n",
              "      <td>0.6</td>\n",
              "      <td>NaN</td>\n",
              "      <td>NaN</td>\n",
              "      <td>SSE</td>\n",
              "      <td>43.0</td>\n",
              "      <td>ESE</td>\n",
              "      <td>15.0</td>\n",
              "      <td>74.0</td>\n",
              "      <td>1026.2</td>\n",
              "      <td>NaN</td>\n",
              "      <td>19.9</td>\n",
              "      <td>No</td>\n",
              "    </tr>\n",
              "  </tbody>\n",
              "</table>\n",
              "</div>\n",
              "      <button class=\"colab-df-convert\" onclick=\"convertToInteractive('df-7dae23eb-7b7d-4359-b7fd-c872e80fd884')\"\n",
              "              title=\"Convert this dataframe to an interactive table.\"\n",
              "              style=\"display:none;\">\n",
              "        \n",
              "  <svg xmlns=\"http://www.w3.org/2000/svg\" height=\"24px\"viewBox=\"0 0 24 24\"\n",
              "       width=\"24px\">\n",
              "    <path d=\"M0 0h24v24H0V0z\" fill=\"none\"/>\n",
              "    <path d=\"M18.56 5.44l.94 2.06.94-2.06 2.06-.94-2.06-.94-.94-2.06-.94 2.06-2.06.94zm-11 1L8.5 8.5l.94-2.06 2.06-.94-2.06-.94L8.5 2.5l-.94 2.06-2.06.94zm10 10l.94 2.06.94-2.06 2.06-.94-2.06-.94-.94-2.06-.94 2.06-2.06.94z\"/><path d=\"M17.41 7.96l-1.37-1.37c-.4-.4-.92-.59-1.43-.59-.52 0-1.04.2-1.43.59L10.3 9.45l-7.72 7.72c-.78.78-.78 2.05 0 2.83L4 21.41c.39.39.9.59 1.41.59.51 0 1.02-.2 1.41-.59l7.78-7.78 2.81-2.81c.8-.78.8-2.07 0-2.86zM5.41 20L4 18.59l7.72-7.72 1.47 1.35L5.41 20z\"/>\n",
              "  </svg>\n",
              "      </button>\n",
              "      \n",
              "  <style>\n",
              "    .colab-df-container {\n",
              "      display:flex;\n",
              "      flex-wrap:wrap;\n",
              "      gap: 12px;\n",
              "    }\n",
              "\n",
              "    .colab-df-convert {\n",
              "      background-color: #E8F0FE;\n",
              "      border: none;\n",
              "      border-radius: 50%;\n",
              "      cursor: pointer;\n",
              "      display: none;\n",
              "      fill: #1967D2;\n",
              "      height: 32px;\n",
              "      padding: 0 0 0 0;\n",
              "      width: 32px;\n",
              "    }\n",
              "\n",
              "    .colab-df-convert:hover {\n",
              "      background-color: #E2EBFA;\n",
              "      box-shadow: 0px 1px 2px rgba(60, 64, 67, 0.3), 0px 1px 3px 1px rgba(60, 64, 67, 0.15);\n",
              "      fill: #174EA6;\n",
              "    }\n",
              "\n",
              "    [theme=dark] .colab-df-convert {\n",
              "      background-color: #3B4455;\n",
              "      fill: #D2E3FC;\n",
              "    }\n",
              "\n",
              "    [theme=dark] .colab-df-convert:hover {\n",
              "      background-color: #434B5C;\n",
              "      box-shadow: 0px 1px 3px 1px rgba(0, 0, 0, 0.15);\n",
              "      filter: drop-shadow(0px 1px 2px rgba(0, 0, 0, 0.3));\n",
              "      fill: #FFFFFF;\n",
              "    }\n",
              "  </style>\n",
              "\n",
              "      <script>\n",
              "        const buttonEl =\n",
              "          document.querySelector('#df-7dae23eb-7b7d-4359-b7fd-c872e80fd884 button.colab-df-convert');\n",
              "        buttonEl.style.display =\n",
              "          google.colab.kernel.accessAllowed ? 'block' : 'none';\n",
              "\n",
              "        async function convertToInteractive(key) {\n",
              "          const element = document.querySelector('#df-7dae23eb-7b7d-4359-b7fd-c872e80fd884');\n",
              "          const dataTable =\n",
              "            await google.colab.kernel.invokeFunction('convertToInteractive',\n",
              "                                                     [key], {});\n",
              "          if (!dataTable) return;\n",
              "\n",
              "          const docLinkHtml = 'Like what you see? Visit the ' +\n",
              "            '<a target=\"_blank\" href=https://colab.research.google.com/notebooks/data_table.ipynb>data table notebook</a>'\n",
              "            + ' to learn more about interactive tables.';\n",
              "          element.innerHTML = '';\n",
              "          dataTable['output_type'] = 'display_data';\n",
              "          await google.colab.output.renderOutput(dataTable, element);\n",
              "          const docLink = document.createElement('div');\n",
              "          docLink.innerHTML = docLinkHtml;\n",
              "          element.appendChild(docLink);\n",
              "        }\n",
              "      </script>\n",
              "    </div>\n",
              "  </div>\n",
              "  "
            ]
          },
          "metadata": {},
          "execution_count": 63
        }
      ]
    },
    {
      "cell_type": "code",
      "source": [
        "Xtest.loc[Xtrain[\"Attribute5\"] >= 1,\"Attribute16\"] = \"Yes\"\n",
        "Xtest.loc[Xtrain[\"Attribute5\"] < 1,\"Attribute16\"] = \"No\"\n",
        "Xtest.loc[Xtrain[\"Attribute5\"] == np.nan,\"Attribute16\"] = np.nan"
      ],
      "metadata": {
        "id": "n-fsyv19Kkdn"
      },
      "execution_count": null,
      "outputs": []
    },
    {
      "cell_type": "code",
      "source": [
        "cate = Xtrain.columns[Xtrain.dtypes == \"object\"].tolist()\n"
      ],
      "metadata": {
        "id": "dvyvx0dPNDHX"
      },
      "execution_count": null,
      "outputs": []
    },
    {
      "cell_type": "code",
      "source": [
        "cate"
      ],
      "metadata": {
        "colab": {
          "base_uri": "https://localhost:8080/"
        },
        "id": "42Q5IKwKN34r",
        "outputId": "25febda5-0587-4017-f003-cd5f7d9ce692"
      },
      "execution_count": null,
      "outputs": [
        {
          "output_type": "execute_result",
          "data": {
            "text/plain": [
              "['Attribute8', 'Attribute10', 'Attribute16']"
            ]
          },
          "metadata": {},
          "execution_count": 66
        }
      ]
    },
    {
      "cell_type": "code",
      "source": [
        "cloud = [\"Attribute14\"]"
      ],
      "metadata": {
        "id": "PWWc8ib-OF3A"
      },
      "execution_count": null,
      "outputs": []
    },
    {
      "cell_type": "code",
      "source": [
        "cate = cate + cloud"
      ],
      "metadata": {
        "id": "dU9mc2WXOPLH"
      },
      "execution_count": null,
      "outputs": []
    },
    {
      "cell_type": "code",
      "source": [
        "cate"
      ],
      "metadata": {
        "colab": {
          "base_uri": "https://localhost:8080/"
        },
        "id": "hi9kKrtIOQwj",
        "outputId": "3e850815-0207-47c4-dc89-96619ef7ba90"
      },
      "execution_count": null,
      "outputs": [
        {
          "output_type": "execute_result",
          "data": {
            "text/plain": [
              "['Attribute8', 'Attribute10', 'Attribute16', 'Attribute14']"
            ]
          },
          "metadata": {},
          "execution_count": 69
        }
      ]
    },
    {
      "cell_type": "code",
      "source": [
        "from sklearn.impute import SimpleImputer #0.20, conda, pip\n",
        "\n",
        "si = SimpleImputer(missing_values=np.nan,strategy=\"most_frequent\")\n",
        "#注意，我们使用训练集数据来训练我们的填补器，本质是在生成训练集中的众数\n",
        "si.fit(Xtrain.loc[:,cate])\n",
        "\n",
        "#然后我们用训练集中的众数来同时填补训练集和测试集\n",
        "Xtrain.loc[:,cate] = si.transform(Xtrain.loc[:,cate])\n",
        "Xtest.loc[:,cate] = si.transform(Xtest.loc[:,cate])"
      ],
      "metadata": {
        "id": "zf0pKBbaOU0D"
      },
      "execution_count": null,
      "outputs": []
    },
    {
      "cell_type": "code",
      "source": [
        "myTest.loc[:,cate] = si.transform(myTest.loc[:,cate])"
      ],
      "metadata": {
        "id": "FH6KoNxXUwuF"
      },
      "execution_count": null,
      "outputs": []
    },
    {
      "cell_type": "code",
      "source": [
        "Xtrain.loc[:,cate].isnull().mean()"
      ],
      "metadata": {
        "colab": {
          "base_uri": "https://localhost:8080/"
        },
        "id": "Ze2xYxEyOZ8K",
        "outputId": "10e39f39-e1a4-419d-91af-5e2743a9b63f"
      },
      "execution_count": null,
      "outputs": [
        {
          "output_type": "execute_result",
          "data": {
            "text/plain": [
              "Attribute8     0.0\n",
              "Attribute10    0.0\n",
              "Attribute16    0.0\n",
              "Attribute14    0.0\n",
              "dtype: float64"
            ]
          },
          "metadata": {},
          "execution_count": 71
        }
      ]
    },
    {
      "cell_type": "code",
      "source": [
        "Xtest.loc[:,cate].isnull().mean()\n"
      ],
      "metadata": {
        "colab": {
          "base_uri": "https://localhost:8080/"
        },
        "id": "J5sTaQleOfFF",
        "outputId": "3da29d61-a82d-49fd-c6de-91c5157add49"
      },
      "execution_count": null,
      "outputs": [
        {
          "output_type": "execute_result",
          "data": {
            "text/plain": [
              "Attribute8     0.0\n",
              "Attribute10    0.0\n",
              "Attribute16    0.0\n",
              "Attribute14    0.0\n",
              "dtype: float64"
            ]
          },
          "metadata": {},
          "execution_count": 72
        }
      ]
    },
    {
      "cell_type": "code",
      "source": [
        "myTest.loc[:,cate].isnull().mean()"
      ],
      "metadata": {
        "colab": {
          "base_uri": "https://localhost:8080/"
        },
        "id": "CGKmtFAzU3_r",
        "outputId": "20f63b52-2a00-4793-dc11-5939cb2e6503"
      },
      "execution_count": null,
      "outputs": [
        {
          "output_type": "execute_result",
          "data": {
            "text/plain": [
              "Attribute8     0.0\n",
              "Attribute10    0.0\n",
              "Attribute16    0.0\n",
              "Attribute14    0.0\n",
              "dtype: float64"
            ]
          },
          "metadata": {},
          "execution_count": 118
        }
      ]
    },
    {
      "cell_type": "code",
      "source": [
        "#将所有的分类型变量编码为数字，一个类别是一个数字\n",
        "from sklearn.preprocessing import OrdinalEncoder #只允许二维以上的数据进行输入\n",
        "oe = OrdinalEncoder()\n",
        "\n",
        "#利用训练集进行fit\n",
        "oe = oe.fit(Xtrain.loc[:,cate])\n",
        "\n",
        "#用训练集的编码结果来编码训练和测试特征矩阵\n",
        "#在这里如果测试特征矩阵报错，就说明测试集中出现了训练集中从未见过的类别\n",
        "Xtrain.loc[:,cate] = oe.transform(Xtrain.loc[:,cate])\n",
        "Xtest.loc[:,cate] = oe.transform(Xtest.loc[:,cate])"
      ],
      "metadata": {
        "id": "xpWVTsKAOmWl"
      },
      "execution_count": null,
      "outputs": []
    },
    {
      "cell_type": "code",
      "source": [
        "myTest.loc[:,cate] = oe.transform(myTest.loc[:,cate])"
      ],
      "metadata": {
        "id": "YiPMNhe0U96T"
      },
      "execution_count": null,
      "outputs": []
    },
    {
      "cell_type": "code",
      "source": [
        "Xtrain.loc[:,cate].head()"
      ],
      "metadata": {
        "colab": {
          "base_uri": "https://localhost:8080/",
          "height": 206
        },
        "id": "LVnJrVMqOsFx",
        "outputId": "62429277-6e2e-469d-f4ca-f0d8d72565b3"
      },
      "execution_count": null,
      "outputs": [
        {
          "output_type": "execute_result",
          "data": {
            "text/plain": [
              "   Attribute8  Attribute10  Attribute16  Attribute14\n",
              "0         7.0          7.0          0.0          7.0\n",
              "1        15.0         12.0          0.0          6.0\n",
              "2         5.0          6.0          0.0          7.0\n",
              "3         0.0          0.0          0.0          1.0\n",
              "4        10.0          2.0          0.0          7.0"
            ],
            "text/html": [
              "\n",
              "  <div id=\"df-4ab1334b-3ded-4cad-81c8-c37cff1dc3f4\">\n",
              "    <div class=\"colab-df-container\">\n",
              "      <div>\n",
              "<style scoped>\n",
              "    .dataframe tbody tr th:only-of-type {\n",
              "        vertical-align: middle;\n",
              "    }\n",
              "\n",
              "    .dataframe tbody tr th {\n",
              "        vertical-align: top;\n",
              "    }\n",
              "\n",
              "    .dataframe thead th {\n",
              "        text-align: right;\n",
              "    }\n",
              "</style>\n",
              "<table border=\"1\" class=\"dataframe\">\n",
              "  <thead>\n",
              "    <tr style=\"text-align: right;\">\n",
              "      <th></th>\n",
              "      <th>Attribute8</th>\n",
              "      <th>Attribute10</th>\n",
              "      <th>Attribute16</th>\n",
              "      <th>Attribute14</th>\n",
              "    </tr>\n",
              "  </thead>\n",
              "  <tbody>\n",
              "    <tr>\n",
              "      <th>0</th>\n",
              "      <td>7.0</td>\n",
              "      <td>7.0</td>\n",
              "      <td>0.0</td>\n",
              "      <td>7.0</td>\n",
              "    </tr>\n",
              "    <tr>\n",
              "      <th>1</th>\n",
              "      <td>15.0</td>\n",
              "      <td>12.0</td>\n",
              "      <td>0.0</td>\n",
              "      <td>6.0</td>\n",
              "    </tr>\n",
              "    <tr>\n",
              "      <th>2</th>\n",
              "      <td>5.0</td>\n",
              "      <td>6.0</td>\n",
              "      <td>0.0</td>\n",
              "      <td>7.0</td>\n",
              "    </tr>\n",
              "    <tr>\n",
              "      <th>3</th>\n",
              "      <td>0.0</td>\n",
              "      <td>0.0</td>\n",
              "      <td>0.0</td>\n",
              "      <td>1.0</td>\n",
              "    </tr>\n",
              "    <tr>\n",
              "      <th>4</th>\n",
              "      <td>10.0</td>\n",
              "      <td>2.0</td>\n",
              "      <td>0.0</td>\n",
              "      <td>7.0</td>\n",
              "    </tr>\n",
              "  </tbody>\n",
              "</table>\n",
              "</div>\n",
              "      <button class=\"colab-df-convert\" onclick=\"convertToInteractive('df-4ab1334b-3ded-4cad-81c8-c37cff1dc3f4')\"\n",
              "              title=\"Convert this dataframe to an interactive table.\"\n",
              "              style=\"display:none;\">\n",
              "        \n",
              "  <svg xmlns=\"http://www.w3.org/2000/svg\" height=\"24px\"viewBox=\"0 0 24 24\"\n",
              "       width=\"24px\">\n",
              "    <path d=\"M0 0h24v24H0V0z\" fill=\"none\"/>\n",
              "    <path d=\"M18.56 5.44l.94 2.06.94-2.06 2.06-.94-2.06-.94-.94-2.06-.94 2.06-2.06.94zm-11 1L8.5 8.5l.94-2.06 2.06-.94-2.06-.94L8.5 2.5l-.94 2.06-2.06.94zm10 10l.94 2.06.94-2.06 2.06-.94-2.06-.94-.94-2.06-.94 2.06-2.06.94z\"/><path d=\"M17.41 7.96l-1.37-1.37c-.4-.4-.92-.59-1.43-.59-.52 0-1.04.2-1.43.59L10.3 9.45l-7.72 7.72c-.78.78-.78 2.05 0 2.83L4 21.41c.39.39.9.59 1.41.59.51 0 1.02-.2 1.41-.59l7.78-7.78 2.81-2.81c.8-.78.8-2.07 0-2.86zM5.41 20L4 18.59l7.72-7.72 1.47 1.35L5.41 20z\"/>\n",
              "  </svg>\n",
              "      </button>\n",
              "      \n",
              "  <style>\n",
              "    .colab-df-container {\n",
              "      display:flex;\n",
              "      flex-wrap:wrap;\n",
              "      gap: 12px;\n",
              "    }\n",
              "\n",
              "    .colab-df-convert {\n",
              "      background-color: #E8F0FE;\n",
              "      border: none;\n",
              "      border-radius: 50%;\n",
              "      cursor: pointer;\n",
              "      display: none;\n",
              "      fill: #1967D2;\n",
              "      height: 32px;\n",
              "      padding: 0 0 0 0;\n",
              "      width: 32px;\n",
              "    }\n",
              "\n",
              "    .colab-df-convert:hover {\n",
              "      background-color: #E2EBFA;\n",
              "      box-shadow: 0px 1px 2px rgba(60, 64, 67, 0.3), 0px 1px 3px 1px rgba(60, 64, 67, 0.15);\n",
              "      fill: #174EA6;\n",
              "    }\n",
              "\n",
              "    [theme=dark] .colab-df-convert {\n",
              "      background-color: #3B4455;\n",
              "      fill: #D2E3FC;\n",
              "    }\n",
              "\n",
              "    [theme=dark] .colab-df-convert:hover {\n",
              "      background-color: #434B5C;\n",
              "      box-shadow: 0px 1px 3px 1px rgba(0, 0, 0, 0.15);\n",
              "      filter: drop-shadow(0px 1px 2px rgba(0, 0, 0, 0.3));\n",
              "      fill: #FFFFFF;\n",
              "    }\n",
              "  </style>\n",
              "\n",
              "      <script>\n",
              "        const buttonEl =\n",
              "          document.querySelector('#df-4ab1334b-3ded-4cad-81c8-c37cff1dc3f4 button.colab-df-convert');\n",
              "        buttonEl.style.display =\n",
              "          google.colab.kernel.accessAllowed ? 'block' : 'none';\n",
              "\n",
              "        async function convertToInteractive(key) {\n",
              "          const element = document.querySelector('#df-4ab1334b-3ded-4cad-81c8-c37cff1dc3f4');\n",
              "          const dataTable =\n",
              "            await google.colab.kernel.invokeFunction('convertToInteractive',\n",
              "                                                     [key], {});\n",
              "          if (!dataTable) return;\n",
              "\n",
              "          const docLinkHtml = 'Like what you see? Visit the ' +\n",
              "            '<a target=\"_blank\" href=https://colab.research.google.com/notebooks/data_table.ipynb>data table notebook</a>'\n",
              "            + ' to learn more about interactive tables.';\n",
              "          element.innerHTML = '';\n",
              "          dataTable['output_type'] = 'display_data';\n",
              "          await google.colab.output.renderOutput(dataTable, element);\n",
              "          const docLink = document.createElement('div');\n",
              "          docLink.innerHTML = docLinkHtml;\n",
              "          element.appendChild(docLink);\n",
              "        }\n",
              "      </script>\n",
              "    </div>\n",
              "  </div>\n",
              "  "
            ]
          },
          "metadata": {},
          "execution_count": 74
        }
      ]
    },
    {
      "cell_type": "code",
      "source": [
        "myTest.loc[:,cate].head()"
      ],
      "metadata": {
        "colab": {
          "base_uri": "https://localhost:8080/",
          "height": 206
        },
        "id": "Q7hh6TzvVC5w",
        "outputId": "57f7cd75-0996-46ca-87fd-caf5a6b45253"
      },
      "execution_count": null,
      "outputs": [
        {
          "output_type": "execute_result",
          "data": {
            "text/plain": [
              "   Attribute8  Attribute10  Attribute16  Attribute14\n",
              "0         5.0         14.0          0.0          8.0\n",
              "1        15.0         13.0          0.0          5.0\n",
              "2        15.0          7.0          0.0          1.0\n",
              "3         8.0          8.0          0.0          1.0\n",
              "4        12.0         13.0          1.0          7.0"
            ],
            "text/html": [
              "\n",
              "  <div id=\"df-2e70cdb2-7154-4592-a25c-0650e88656dd\">\n",
              "    <div class=\"colab-df-container\">\n",
              "      <div>\n",
              "<style scoped>\n",
              "    .dataframe tbody tr th:only-of-type {\n",
              "        vertical-align: middle;\n",
              "    }\n",
              "\n",
              "    .dataframe tbody tr th {\n",
              "        vertical-align: top;\n",
              "    }\n",
              "\n",
              "    .dataframe thead th {\n",
              "        text-align: right;\n",
              "    }\n",
              "</style>\n",
              "<table border=\"1\" class=\"dataframe\">\n",
              "  <thead>\n",
              "    <tr style=\"text-align: right;\">\n",
              "      <th></th>\n",
              "      <th>Attribute8</th>\n",
              "      <th>Attribute10</th>\n",
              "      <th>Attribute16</th>\n",
              "      <th>Attribute14</th>\n",
              "    </tr>\n",
              "  </thead>\n",
              "  <tbody>\n",
              "    <tr>\n",
              "      <th>0</th>\n",
              "      <td>5.0</td>\n",
              "      <td>14.0</td>\n",
              "      <td>0.0</td>\n",
              "      <td>8.0</td>\n",
              "    </tr>\n",
              "    <tr>\n",
              "      <th>1</th>\n",
              "      <td>15.0</td>\n",
              "      <td>13.0</td>\n",
              "      <td>0.0</td>\n",
              "      <td>5.0</td>\n",
              "    </tr>\n",
              "    <tr>\n",
              "      <th>2</th>\n",
              "      <td>15.0</td>\n",
              "      <td>7.0</td>\n",
              "      <td>0.0</td>\n",
              "      <td>1.0</td>\n",
              "    </tr>\n",
              "    <tr>\n",
              "      <th>3</th>\n",
              "      <td>8.0</td>\n",
              "      <td>8.0</td>\n",
              "      <td>0.0</td>\n",
              "      <td>1.0</td>\n",
              "    </tr>\n",
              "    <tr>\n",
              "      <th>4</th>\n",
              "      <td>12.0</td>\n",
              "      <td>13.0</td>\n",
              "      <td>1.0</td>\n",
              "      <td>7.0</td>\n",
              "    </tr>\n",
              "  </tbody>\n",
              "</table>\n",
              "</div>\n",
              "      <button class=\"colab-df-convert\" onclick=\"convertToInteractive('df-2e70cdb2-7154-4592-a25c-0650e88656dd')\"\n",
              "              title=\"Convert this dataframe to an interactive table.\"\n",
              "              style=\"display:none;\">\n",
              "        \n",
              "  <svg xmlns=\"http://www.w3.org/2000/svg\" height=\"24px\"viewBox=\"0 0 24 24\"\n",
              "       width=\"24px\">\n",
              "    <path d=\"M0 0h24v24H0V0z\" fill=\"none\"/>\n",
              "    <path d=\"M18.56 5.44l.94 2.06.94-2.06 2.06-.94-2.06-.94-.94-2.06-.94 2.06-2.06.94zm-11 1L8.5 8.5l.94-2.06 2.06-.94-2.06-.94L8.5 2.5l-.94 2.06-2.06.94zm10 10l.94 2.06.94-2.06 2.06-.94-2.06-.94-.94-2.06-.94 2.06-2.06.94z\"/><path d=\"M17.41 7.96l-1.37-1.37c-.4-.4-.92-.59-1.43-.59-.52 0-1.04.2-1.43.59L10.3 9.45l-7.72 7.72c-.78.78-.78 2.05 0 2.83L4 21.41c.39.39.9.59 1.41.59.51 0 1.02-.2 1.41-.59l7.78-7.78 2.81-2.81c.8-.78.8-2.07 0-2.86zM5.41 20L4 18.59l7.72-7.72 1.47 1.35L5.41 20z\"/>\n",
              "  </svg>\n",
              "      </button>\n",
              "      \n",
              "  <style>\n",
              "    .colab-df-container {\n",
              "      display:flex;\n",
              "      flex-wrap:wrap;\n",
              "      gap: 12px;\n",
              "    }\n",
              "\n",
              "    .colab-df-convert {\n",
              "      background-color: #E8F0FE;\n",
              "      border: none;\n",
              "      border-radius: 50%;\n",
              "      cursor: pointer;\n",
              "      display: none;\n",
              "      fill: #1967D2;\n",
              "      height: 32px;\n",
              "      padding: 0 0 0 0;\n",
              "      width: 32px;\n",
              "    }\n",
              "\n",
              "    .colab-df-convert:hover {\n",
              "      background-color: #E2EBFA;\n",
              "      box-shadow: 0px 1px 2px rgba(60, 64, 67, 0.3), 0px 1px 3px 1px rgba(60, 64, 67, 0.15);\n",
              "      fill: #174EA6;\n",
              "    }\n",
              "\n",
              "    [theme=dark] .colab-df-convert {\n",
              "      background-color: #3B4455;\n",
              "      fill: #D2E3FC;\n",
              "    }\n",
              "\n",
              "    [theme=dark] .colab-df-convert:hover {\n",
              "      background-color: #434B5C;\n",
              "      box-shadow: 0px 1px 3px 1px rgba(0, 0, 0, 0.15);\n",
              "      filter: drop-shadow(0px 1px 2px rgba(0, 0, 0, 0.3));\n",
              "      fill: #FFFFFF;\n",
              "    }\n",
              "  </style>\n",
              "\n",
              "      <script>\n",
              "        const buttonEl =\n",
              "          document.querySelector('#df-2e70cdb2-7154-4592-a25c-0650e88656dd button.colab-df-convert');\n",
              "        buttonEl.style.display =\n",
              "          google.colab.kernel.accessAllowed ? 'block' : 'none';\n",
              "\n",
              "        async function convertToInteractive(key) {\n",
              "          const element = document.querySelector('#df-2e70cdb2-7154-4592-a25c-0650e88656dd');\n",
              "          const dataTable =\n",
              "            await google.colab.kernel.invokeFunction('convertToInteractive',\n",
              "                                                     [key], {});\n",
              "          if (!dataTable) return;\n",
              "\n",
              "          const docLinkHtml = 'Like what you see? Visit the ' +\n",
              "            '<a target=\"_blank\" href=https://colab.research.google.com/notebooks/data_table.ipynb>data table notebook</a>'\n",
              "            + ' to learn more about interactive tables.';\n",
              "          element.innerHTML = '';\n",
              "          dataTable['output_type'] = 'display_data';\n",
              "          await google.colab.output.renderOutput(dataTable, element);\n",
              "          const docLink = document.createElement('div');\n",
              "          docLink.innerHTML = docLinkHtml;\n",
              "          element.appendChild(docLink);\n",
              "        }\n",
              "      </script>\n",
              "    </div>\n",
              "  </div>\n",
              "  "
            ]
          },
          "metadata": {},
          "execution_count": 120
        }
      ]
    },
    {
      "cell_type": "code",
      "source": [
        "col = Xtrain.columns.tolist()\n",
        "\n",
        "print(col)\n",
        "\n",
        "print(cate)"
      ],
      "metadata": {
        "colab": {
          "base_uri": "https://localhost:8080/"
        },
        "id": "nPEjBYA1O_sO",
        "outputId": "95ac7023-e803-462d-b5dc-ea9887d8f591"
      },
      "execution_count": null,
      "outputs": [
        {
          "output_type": "stream",
          "name": "stdout",
          "text": [
            "['Attribute3', 'Attribute4', 'Attribute5', 'Attribute6', 'Attribute7', 'Attribute8', 'Attribute9', 'Attribute10', 'Attribute11', 'Attribute12', 'Attribute13', 'Attribute14', 'Attribute15', 'Attribute16']\n",
            "['Attribute8', 'Attribute10', 'Attribute16', 'Attribute14']\n"
          ]
        }
      ]
    },
    {
      "cell_type": "code",
      "source": [
        "for i in cate:\n",
        "    col.remove(i)"
      ],
      "metadata": {
        "id": "wsR1c8aAPCOZ"
      },
      "execution_count": null,
      "outputs": []
    },
    {
      "cell_type": "code",
      "source": [
        "col"
      ],
      "metadata": {
        "colab": {
          "base_uri": "https://localhost:8080/"
        },
        "id": "rtfdRO7uPD9M",
        "outputId": "5a15e8d1-d552-48bc-d95c-03eec5623868"
      },
      "execution_count": null,
      "outputs": [
        {
          "output_type": "execute_result",
          "data": {
            "text/plain": [
              "['Attribute3',\n",
              " 'Attribute4',\n",
              " 'Attribute5',\n",
              " 'Attribute6',\n",
              " 'Attribute7',\n",
              " 'Attribute9',\n",
              " 'Attribute11',\n",
              " 'Attribute12',\n",
              " 'Attribute13',\n",
              " 'Attribute15']"
            ]
          },
          "metadata": {},
          "execution_count": 86
        }
      ]
    },
    {
      "cell_type": "code",
      "source": [
        "#实例化模型，填补策略为\"mean\"表示均值\n",
        "impmean = SimpleImputer(missing_values=np.nan,strategy = \"mean\")\n",
        "#用训练集来fit模型\n",
        "impmean = impmean.fit(Xtrain.loc[:,col])\n",
        "#分别在训练集和测试集上进行均值填补\n",
        "Xtrain.loc[:,col] = impmean.transform(Xtrain.loc[:,col])\n",
        "Xtest.loc[:,col] = impmean.transform(Xtest.loc[:,col])"
      ],
      "metadata": {
        "id": "cYPrA9b8PIGG"
      },
      "execution_count": null,
      "outputs": []
    },
    {
      "cell_type": "code",
      "source": [
        "myTest.loc[:,col] = impmean.transform(myTest.loc[:,col])"
      ],
      "metadata": {
        "id": "TSl3V25uVJQr"
      },
      "execution_count": null,
      "outputs": []
    },
    {
      "cell_type": "code",
      "source": [
        "Xtrain.isnull().mean()"
      ],
      "metadata": {
        "colab": {
          "base_uri": "https://localhost:8080/"
        },
        "id": "jl7w23aNPieT",
        "outputId": "4b7ff785-fca6-427c-ce4b-a1518082c16d"
      },
      "execution_count": null,
      "outputs": [
        {
          "output_type": "execute_result",
          "data": {
            "text/plain": [
              "Attribute3     0.0\n",
              "Attribute4     0.0\n",
              "Attribute5     0.0\n",
              "Attribute6     0.0\n",
              "Attribute7     0.0\n",
              "Attribute8     0.0\n",
              "Attribute9     0.0\n",
              "Attribute10    0.0\n",
              "Attribute11    0.0\n",
              "Attribute12    0.0\n",
              "Attribute13    0.0\n",
              "Attribute14    0.0\n",
              "Attribute15    0.0\n",
              "Attribute16    0.0\n",
              "dtype: float64"
            ]
          },
          "metadata": {},
          "execution_count": 88
        }
      ]
    },
    {
      "cell_type": "code",
      "source": [
        "Xtest.isnull().mean()"
      ],
      "metadata": {
        "colab": {
          "base_uri": "https://localhost:8080/"
        },
        "id": "xYoXys2RPlGB",
        "outputId": "450011f2-b1e2-4c87-abf7-c7e9da0d0d13"
      },
      "execution_count": null,
      "outputs": [
        {
          "output_type": "execute_result",
          "data": {
            "text/plain": [
              "Attribute3     0.0\n",
              "Attribute4     0.0\n",
              "Attribute5     0.0\n",
              "Attribute6     0.0\n",
              "Attribute7     0.0\n",
              "Attribute8     0.0\n",
              "Attribute9     0.0\n",
              "Attribute10    0.0\n",
              "Attribute11    0.0\n",
              "Attribute12    0.0\n",
              "Attribute13    0.0\n",
              "Attribute14    0.0\n",
              "Attribute15    0.0\n",
              "Attribute16    0.0\n",
              "dtype: float64"
            ]
          },
          "metadata": {},
          "execution_count": 89
        }
      ]
    },
    {
      "cell_type": "code",
      "source": [
        "myTest.isnull().mean()"
      ],
      "metadata": {
        "colab": {
          "base_uri": "https://localhost:8080/"
        },
        "id": "D8vy_zoVVP1N",
        "outputId": "76c76c39-b8c4-4b30-ea04-283c66fdfae0"
      },
      "execution_count": null,
      "outputs": [
        {
          "output_type": "execute_result",
          "data": {
            "text/plain": [
              "Attribute3     0.0\n",
              "Attribute4     0.0\n",
              "Attribute5     0.0\n",
              "Attribute6     0.0\n",
              "Attribute7     0.0\n",
              "Attribute8     0.0\n",
              "Attribute9     0.0\n",
              "Attribute10    0.0\n",
              "Attribute11    0.0\n",
              "Attribute12    0.0\n",
              "Attribute13    0.0\n",
              "Attribute14    0.0\n",
              "Attribute15    0.0\n",
              "Attribute16    0.0\n",
              "dtype: float64"
            ]
          },
          "metadata": {},
          "execution_count": 122
        }
      ]
    },
    {
      "cell_type": "code",
      "source": [
        "from sklearn.preprocessing import StandardScaler #数据转换为均值为0，方差为1的数据\n",
        "#标准化不改变数据的分布，不会把数据变成正态分布的"
      ],
      "metadata": {
        "id": "E0hyaJxhPnyZ"
      },
      "execution_count": null,
      "outputs": []
    },
    {
      "cell_type": "code",
      "source": [
        "ss = StandardScaler()\n",
        "ss = ss.fit(Xtrain.loc[:,col])\n",
        "Xtrain.loc[:,col] = ss.transform(Xtrain.loc[:,col])\n",
        "Xtest.loc[:,col] = ss.transform(Xtest.loc[:,col])"
      ],
      "metadata": {
        "id": "6W7_jICDPtdC"
      },
      "execution_count": null,
      "outputs": []
    },
    {
      "cell_type": "code",
      "source": [
        "myTest.loc[:,col] = ss.transform(myTest.loc[:,col])"
      ],
      "metadata": {
        "id": "bE-TVOtnVU0_"
      },
      "execution_count": null,
      "outputs": []
    },
    {
      "cell_type": "code",
      "source": [
        "Xtrain.head()"
      ],
      "metadata": {
        "colab": {
          "base_uri": "https://localhost:8080/",
          "height": 357
        },
        "id": "5l3qxqE7Pw1a",
        "outputId": "9f26ac50-9ea8-4305-e1f2-6a4633971788"
      },
      "execution_count": null,
      "outputs": [
        {
          "output_type": "execute_result",
          "data": {
            "text/plain": [
              "   Attribute3  Attribute4  Attribute5  Attribute6    Attribute7  Attribute8  \\\n",
              "0   -0.631355   -1.458082   -0.286115    0.000000  3.314472e-16         7.0   \n",
              "1    0.264942    0.316038   -0.286115    0.000000  4.043883e-01        15.0   \n",
              "2   -1.653447   -0.838548   -0.286115   -1.372741  5.536589e-01         5.0   \n",
              "3    1.176963    1.273500   -0.286115    1.930284  3.314472e-16         0.0   \n",
              "4    0.170595   -0.092291   -0.206694    0.000000  3.314472e-16        10.0   \n",
              "\n",
              "   Attribute9  Attribute10  Attribute11  Attribute12   Attribute13  \\\n",
              "0   -0.899188          7.0    -0.876783     0.675560 -1.702920e-14   \n",
              "1    0.257883         12.0     0.864288    -0.066669 -3.085351e-01   \n",
              "2   -0.667773          6.0     0.167860    -0.709934  9.347251e-01   \n",
              "3    1.106402          0.0     0.167860    -1.155272 -8.328015e-01   \n",
              "4    0.257883          2.0    -0.412498     1.170379  1.608782e+00   \n",
              "\n",
              "   Attribute14  Attribute15  Attribute16  \n",
              "0          7.0    -1.358864          0.0  \n",
              "1          6.0     0.079556          0.0  \n",
              "2          7.0    -0.763154          0.0  \n",
              "3          1.0     1.314564          0.0  \n",
              "4          7.0    -0.283681          0.0  "
            ],
            "text/html": [
              "\n",
              "  <div id=\"df-407e2db9-cd19-47a6-b189-87c07b384dbe\">\n",
              "    <div class=\"colab-df-container\">\n",
              "      <div>\n",
              "<style scoped>\n",
              "    .dataframe tbody tr th:only-of-type {\n",
              "        vertical-align: middle;\n",
              "    }\n",
              "\n",
              "    .dataframe tbody tr th {\n",
              "        vertical-align: top;\n",
              "    }\n",
              "\n",
              "    .dataframe thead th {\n",
              "        text-align: right;\n",
              "    }\n",
              "</style>\n",
              "<table border=\"1\" class=\"dataframe\">\n",
              "  <thead>\n",
              "    <tr style=\"text-align: right;\">\n",
              "      <th></th>\n",
              "      <th>Attribute3</th>\n",
              "      <th>Attribute4</th>\n",
              "      <th>Attribute5</th>\n",
              "      <th>Attribute6</th>\n",
              "      <th>Attribute7</th>\n",
              "      <th>Attribute8</th>\n",
              "      <th>Attribute9</th>\n",
              "      <th>Attribute10</th>\n",
              "      <th>Attribute11</th>\n",
              "      <th>Attribute12</th>\n",
              "      <th>Attribute13</th>\n",
              "      <th>Attribute14</th>\n",
              "      <th>Attribute15</th>\n",
              "      <th>Attribute16</th>\n",
              "    </tr>\n",
              "  </thead>\n",
              "  <tbody>\n",
              "    <tr>\n",
              "      <th>0</th>\n",
              "      <td>-0.631355</td>\n",
              "      <td>-1.458082</td>\n",
              "      <td>-0.286115</td>\n",
              "      <td>0.000000</td>\n",
              "      <td>3.314472e-16</td>\n",
              "      <td>7.0</td>\n",
              "      <td>-0.899188</td>\n",
              "      <td>7.0</td>\n",
              "      <td>-0.876783</td>\n",
              "      <td>0.675560</td>\n",
              "      <td>-1.702920e-14</td>\n",
              "      <td>7.0</td>\n",
              "      <td>-1.358864</td>\n",
              "      <td>0.0</td>\n",
              "    </tr>\n",
              "    <tr>\n",
              "      <th>1</th>\n",
              "      <td>0.264942</td>\n",
              "      <td>0.316038</td>\n",
              "      <td>-0.286115</td>\n",
              "      <td>0.000000</td>\n",
              "      <td>4.043883e-01</td>\n",
              "      <td>15.0</td>\n",
              "      <td>0.257883</td>\n",
              "      <td>12.0</td>\n",
              "      <td>0.864288</td>\n",
              "      <td>-0.066669</td>\n",
              "      <td>-3.085351e-01</td>\n",
              "      <td>6.0</td>\n",
              "      <td>0.079556</td>\n",
              "      <td>0.0</td>\n",
              "    </tr>\n",
              "    <tr>\n",
              "      <th>2</th>\n",
              "      <td>-1.653447</td>\n",
              "      <td>-0.838548</td>\n",
              "      <td>-0.286115</td>\n",
              "      <td>-1.372741</td>\n",
              "      <td>5.536589e-01</td>\n",
              "      <td>5.0</td>\n",
              "      <td>-0.667773</td>\n",
              "      <td>6.0</td>\n",
              "      <td>0.167860</td>\n",
              "      <td>-0.709934</td>\n",
              "      <td>9.347251e-01</td>\n",
              "      <td>7.0</td>\n",
              "      <td>-0.763154</td>\n",
              "      <td>0.0</td>\n",
              "    </tr>\n",
              "    <tr>\n",
              "      <th>3</th>\n",
              "      <td>1.176963</td>\n",
              "      <td>1.273500</td>\n",
              "      <td>-0.286115</td>\n",
              "      <td>1.930284</td>\n",
              "      <td>3.314472e-16</td>\n",
              "      <td>0.0</td>\n",
              "      <td>1.106402</td>\n",
              "      <td>0.0</td>\n",
              "      <td>0.167860</td>\n",
              "      <td>-1.155272</td>\n",
              "      <td>-8.328015e-01</td>\n",
              "      <td>1.0</td>\n",
              "      <td>1.314564</td>\n",
              "      <td>0.0</td>\n",
              "    </tr>\n",
              "    <tr>\n",
              "      <th>4</th>\n",
              "      <td>0.170595</td>\n",
              "      <td>-0.092291</td>\n",
              "      <td>-0.206694</td>\n",
              "      <td>0.000000</td>\n",
              "      <td>3.314472e-16</td>\n",
              "      <td>10.0</td>\n",
              "      <td>0.257883</td>\n",
              "      <td>2.0</td>\n",
              "      <td>-0.412498</td>\n",
              "      <td>1.170379</td>\n",
              "      <td>1.608782e+00</td>\n",
              "      <td>7.0</td>\n",
              "      <td>-0.283681</td>\n",
              "      <td>0.0</td>\n",
              "    </tr>\n",
              "  </tbody>\n",
              "</table>\n",
              "</div>\n",
              "      <button class=\"colab-df-convert\" onclick=\"convertToInteractive('df-407e2db9-cd19-47a6-b189-87c07b384dbe')\"\n",
              "              title=\"Convert this dataframe to an interactive table.\"\n",
              "              style=\"display:none;\">\n",
              "        \n",
              "  <svg xmlns=\"http://www.w3.org/2000/svg\" height=\"24px\"viewBox=\"0 0 24 24\"\n",
              "       width=\"24px\">\n",
              "    <path d=\"M0 0h24v24H0V0z\" fill=\"none\"/>\n",
              "    <path d=\"M18.56 5.44l.94 2.06.94-2.06 2.06-.94-2.06-.94-.94-2.06-.94 2.06-2.06.94zm-11 1L8.5 8.5l.94-2.06 2.06-.94-2.06-.94L8.5 2.5l-.94 2.06-2.06.94zm10 10l.94 2.06.94-2.06 2.06-.94-2.06-.94-.94-2.06-.94 2.06-2.06.94z\"/><path d=\"M17.41 7.96l-1.37-1.37c-.4-.4-.92-.59-1.43-.59-.52 0-1.04.2-1.43.59L10.3 9.45l-7.72 7.72c-.78.78-.78 2.05 0 2.83L4 21.41c.39.39.9.59 1.41.59.51 0 1.02-.2 1.41-.59l7.78-7.78 2.81-2.81c.8-.78.8-2.07 0-2.86zM5.41 20L4 18.59l7.72-7.72 1.47 1.35L5.41 20z\"/>\n",
              "  </svg>\n",
              "      </button>\n",
              "      \n",
              "  <style>\n",
              "    .colab-df-container {\n",
              "      display:flex;\n",
              "      flex-wrap:wrap;\n",
              "      gap: 12px;\n",
              "    }\n",
              "\n",
              "    .colab-df-convert {\n",
              "      background-color: #E8F0FE;\n",
              "      border: none;\n",
              "      border-radius: 50%;\n",
              "      cursor: pointer;\n",
              "      display: none;\n",
              "      fill: #1967D2;\n",
              "      height: 32px;\n",
              "      padding: 0 0 0 0;\n",
              "      width: 32px;\n",
              "    }\n",
              "\n",
              "    .colab-df-convert:hover {\n",
              "      background-color: #E2EBFA;\n",
              "      box-shadow: 0px 1px 2px rgba(60, 64, 67, 0.3), 0px 1px 3px 1px rgba(60, 64, 67, 0.15);\n",
              "      fill: #174EA6;\n",
              "    }\n",
              "\n",
              "    [theme=dark] .colab-df-convert {\n",
              "      background-color: #3B4455;\n",
              "      fill: #D2E3FC;\n",
              "    }\n",
              "\n",
              "    [theme=dark] .colab-df-convert:hover {\n",
              "      background-color: #434B5C;\n",
              "      box-shadow: 0px 1px 3px 1px rgba(0, 0, 0, 0.15);\n",
              "      filter: drop-shadow(0px 1px 2px rgba(0, 0, 0, 0.3));\n",
              "      fill: #FFFFFF;\n",
              "    }\n",
              "  </style>\n",
              "\n",
              "      <script>\n",
              "        const buttonEl =\n",
              "          document.querySelector('#df-407e2db9-cd19-47a6-b189-87c07b384dbe button.colab-df-convert');\n",
              "        buttonEl.style.display =\n",
              "          google.colab.kernel.accessAllowed ? 'block' : 'none';\n",
              "\n",
              "        async function convertToInteractive(key) {\n",
              "          const element = document.querySelector('#df-407e2db9-cd19-47a6-b189-87c07b384dbe');\n",
              "          const dataTable =\n",
              "            await google.colab.kernel.invokeFunction('convertToInteractive',\n",
              "                                                     [key], {});\n",
              "          if (!dataTable) return;\n",
              "\n",
              "          const docLinkHtml = 'Like what you see? Visit the ' +\n",
              "            '<a target=\"_blank\" href=https://colab.research.google.com/notebooks/data_table.ipynb>data table notebook</a>'\n",
              "            + ' to learn more about interactive tables.';\n",
              "          element.innerHTML = '';\n",
              "          dataTable['output_type'] = 'display_data';\n",
              "          await google.colab.output.renderOutput(dataTable, element);\n",
              "          const docLink = document.createElement('div');\n",
              "          docLink.innerHTML = docLinkHtml;\n",
              "          element.appendChild(docLink);\n",
              "        }\n",
              "      </script>\n",
              "    </div>\n",
              "  </div>\n",
              "  "
            ]
          },
          "metadata": {},
          "execution_count": 92
        }
      ]
    },
    {
      "cell_type": "code",
      "source": [
        "Ytrain.head()"
      ],
      "metadata": {
        "colab": {
          "base_uri": "https://localhost:8080/",
          "height": 206
        },
        "id": "HEl4oB35P2UN",
        "outputId": "8ea96d46-2ab8-4af3-93a5-e62b2d71cbc5"
      },
      "execution_count": null,
      "outputs": [
        {
          "output_type": "execute_result",
          "data": {
            "text/plain": [
              "   0\n",
              "0  0\n",
              "1  0\n",
              "2  0\n",
              "3  0\n",
              "4  0"
            ],
            "text/html": [
              "\n",
              "  <div id=\"df-b3c7b689-7c01-4a82-91d4-93e329e3cecf\">\n",
              "    <div class=\"colab-df-container\">\n",
              "      <div>\n",
              "<style scoped>\n",
              "    .dataframe tbody tr th:only-of-type {\n",
              "        vertical-align: middle;\n",
              "    }\n",
              "\n",
              "    .dataframe tbody tr th {\n",
              "        vertical-align: top;\n",
              "    }\n",
              "\n",
              "    .dataframe thead th {\n",
              "        text-align: right;\n",
              "    }\n",
              "</style>\n",
              "<table border=\"1\" class=\"dataframe\">\n",
              "  <thead>\n",
              "    <tr style=\"text-align: right;\">\n",
              "      <th></th>\n",
              "      <th>0</th>\n",
              "    </tr>\n",
              "  </thead>\n",
              "  <tbody>\n",
              "    <tr>\n",
              "      <th>0</th>\n",
              "      <td>0</td>\n",
              "    </tr>\n",
              "    <tr>\n",
              "      <th>1</th>\n",
              "      <td>0</td>\n",
              "    </tr>\n",
              "    <tr>\n",
              "      <th>2</th>\n",
              "      <td>0</td>\n",
              "    </tr>\n",
              "    <tr>\n",
              "      <th>3</th>\n",
              "      <td>0</td>\n",
              "    </tr>\n",
              "    <tr>\n",
              "      <th>4</th>\n",
              "      <td>0</td>\n",
              "    </tr>\n",
              "  </tbody>\n",
              "</table>\n",
              "</div>\n",
              "      <button class=\"colab-df-convert\" onclick=\"convertToInteractive('df-b3c7b689-7c01-4a82-91d4-93e329e3cecf')\"\n",
              "              title=\"Convert this dataframe to an interactive table.\"\n",
              "              style=\"display:none;\">\n",
              "        \n",
              "  <svg xmlns=\"http://www.w3.org/2000/svg\" height=\"24px\"viewBox=\"0 0 24 24\"\n",
              "       width=\"24px\">\n",
              "    <path d=\"M0 0h24v24H0V0z\" fill=\"none\"/>\n",
              "    <path d=\"M18.56 5.44l.94 2.06.94-2.06 2.06-.94-2.06-.94-.94-2.06-.94 2.06-2.06.94zm-11 1L8.5 8.5l.94-2.06 2.06-.94-2.06-.94L8.5 2.5l-.94 2.06-2.06.94zm10 10l.94 2.06.94-2.06 2.06-.94-2.06-.94-.94-2.06-.94 2.06-2.06.94z\"/><path d=\"M17.41 7.96l-1.37-1.37c-.4-.4-.92-.59-1.43-.59-.52 0-1.04.2-1.43.59L10.3 9.45l-7.72 7.72c-.78.78-.78 2.05 0 2.83L4 21.41c.39.39.9.59 1.41.59.51 0 1.02-.2 1.41-.59l7.78-7.78 2.81-2.81c.8-.78.8-2.07 0-2.86zM5.41 20L4 18.59l7.72-7.72 1.47 1.35L5.41 20z\"/>\n",
              "  </svg>\n",
              "      </button>\n",
              "      \n",
              "  <style>\n",
              "    .colab-df-container {\n",
              "      display:flex;\n",
              "      flex-wrap:wrap;\n",
              "      gap: 12px;\n",
              "    }\n",
              "\n",
              "    .colab-df-convert {\n",
              "      background-color: #E8F0FE;\n",
              "      border: none;\n",
              "      border-radius: 50%;\n",
              "      cursor: pointer;\n",
              "      display: none;\n",
              "      fill: #1967D2;\n",
              "      height: 32px;\n",
              "      padding: 0 0 0 0;\n",
              "      width: 32px;\n",
              "    }\n",
              "\n",
              "    .colab-df-convert:hover {\n",
              "      background-color: #E2EBFA;\n",
              "      box-shadow: 0px 1px 2px rgba(60, 64, 67, 0.3), 0px 1px 3px 1px rgba(60, 64, 67, 0.15);\n",
              "      fill: #174EA6;\n",
              "    }\n",
              "\n",
              "    [theme=dark] .colab-df-convert {\n",
              "      background-color: #3B4455;\n",
              "      fill: #D2E3FC;\n",
              "    }\n",
              "\n",
              "    [theme=dark] .colab-df-convert:hover {\n",
              "      background-color: #434B5C;\n",
              "      box-shadow: 0px 1px 3px 1px rgba(0, 0, 0, 0.15);\n",
              "      filter: drop-shadow(0px 1px 2px rgba(0, 0, 0, 0.3));\n",
              "      fill: #FFFFFF;\n",
              "    }\n",
              "  </style>\n",
              "\n",
              "      <script>\n",
              "        const buttonEl =\n",
              "          document.querySelector('#df-b3c7b689-7c01-4a82-91d4-93e329e3cecf button.colab-df-convert');\n",
              "        buttonEl.style.display =\n",
              "          google.colab.kernel.accessAllowed ? 'block' : 'none';\n",
              "\n",
              "        async function convertToInteractive(key) {\n",
              "          const element = document.querySelector('#df-b3c7b689-7c01-4a82-91d4-93e329e3cecf');\n",
              "          const dataTable =\n",
              "            await google.colab.kernel.invokeFunction('convertToInteractive',\n",
              "                                                     [key], {});\n",
              "          if (!dataTable) return;\n",
              "\n",
              "          const docLinkHtml = 'Like what you see? Visit the ' +\n",
              "            '<a target=\"_blank\" href=https://colab.research.google.com/notebooks/data_table.ipynb>data table notebook</a>'\n",
              "            + ' to learn more about interactive tables.';\n",
              "          element.innerHTML = '';\n",
              "          dataTable['output_type'] = 'display_data';\n",
              "          await google.colab.output.renderOutput(dataTable, element);\n",
              "          const docLink = document.createElement('div');\n",
              "          docLink.innerHTML = docLinkHtml;\n",
              "          element.appendChild(docLink);\n",
              "        }\n",
              "      </script>\n",
              "    </div>\n",
              "  </div>\n",
              "  "
            ]
          },
          "metadata": {},
          "execution_count": 93
        }
      ]
    },
    {
      "cell_type": "code",
      "source": [
        "from time import time #随时监控我们的模型的运行时间\n",
        "import datetime\n",
        "from sklearn.svm import SVC\n",
        "from sklearn.model_selection import cross_val_score\n",
        "from sklearn.metrics import roc_auc_score, recall_score"
      ],
      "metadata": {
        "id": "22n4mNFMP5g6"
      },
      "execution_count": null,
      "outputs": []
    },
    {
      "cell_type": "code",
      "source": [
        "Ytrain = Ytrain.iloc[:,0].ravel()\n",
        "Ytest = Ytest.iloc[:,0].ravel()"
      ],
      "metadata": {
        "id": "dYsUKSZWP742"
      },
      "execution_count": null,
      "outputs": []
    },
    {
      "cell_type": "code",
      "source": [
        "times = time()\n",
        "for kernel in [\"linear\",\"poly\",\"rbf\",\"sigmoid\"]:\n",
        "    clf = SVC(kernel = kernel\n",
        "              ,gamma=\"auto\"\n",
        "              ,degree = 1\n",
        "              ,cache_size = 5000\n",
        "              ,class_weight = \"balanced\"\n",
        "             ).fit(Xtrain, Ytrain)\n",
        "    result = clf.predict(myTest)\n",
        "    score = clf.score(Xtest,Ytest)\n",
        "    recall = recall_score(Ytest, result)\n",
        "    auc = roc_auc_score(Ytest,clf.decision_function(Xtest))\n",
        "    print(\"%s 's testing accuracy %f, recall is %f', auc is %f\" % (kernel,score,recall,auc))\n",
        "    print(datetime.datetime.fromtimestamp(time()-times).strftime(\"%M:%S:%f\"))"
      ],
      "metadata": {
        "colab": {
          "base_uri": "https://localhost:8080/",
          "height": 417
        },
        "id": "iLXRXpQTQChw",
        "outputId": "388433fe-78e3-49d2-dfef-b3d464f15ee7"
      },
      "execution_count": null,
      "outputs": [
        {
          "output_type": "error",
          "ename": "ValueError",
          "evalue": "ignored",
          "traceback": [
            "\u001b[0;31m---------------------------------------------------------------------------\u001b[0m",
            "\u001b[0;31mValueError\u001b[0m                                Traceback (most recent call last)",
            "\u001b[0;32m<ipython-input-124-9de775340481>\u001b[0m in \u001b[0;36m<module>\u001b[0;34m\u001b[0m\n\u001b[1;32m      9\u001b[0m     \u001b[0mresult\u001b[0m \u001b[0;34m=\u001b[0m \u001b[0mclf\u001b[0m\u001b[0;34m.\u001b[0m\u001b[0mpredict\u001b[0m\u001b[0;34m(\u001b[0m\u001b[0mmyTest\u001b[0m\u001b[0;34m)\u001b[0m\u001b[0;34m\u001b[0m\u001b[0;34m\u001b[0m\u001b[0m\n\u001b[1;32m     10\u001b[0m     \u001b[0mscore\u001b[0m \u001b[0;34m=\u001b[0m \u001b[0mclf\u001b[0m\u001b[0;34m.\u001b[0m\u001b[0mscore\u001b[0m\u001b[0;34m(\u001b[0m\u001b[0mXtest\u001b[0m\u001b[0;34m,\u001b[0m\u001b[0mYtest\u001b[0m\u001b[0;34m)\u001b[0m\u001b[0;34m\u001b[0m\u001b[0;34m\u001b[0m\u001b[0m\n\u001b[0;32m---> 11\u001b[0;31m     \u001b[0mrecall\u001b[0m \u001b[0;34m=\u001b[0m \u001b[0mrecall_score\u001b[0m\u001b[0;34m(\u001b[0m\u001b[0mYtest\u001b[0m\u001b[0;34m,\u001b[0m \u001b[0mresult\u001b[0m\u001b[0;34m)\u001b[0m\u001b[0;34m\u001b[0m\u001b[0;34m\u001b[0m\u001b[0m\n\u001b[0m\u001b[1;32m     12\u001b[0m     \u001b[0mauc\u001b[0m \u001b[0;34m=\u001b[0m \u001b[0mroc_auc_score\u001b[0m\u001b[0;34m(\u001b[0m\u001b[0mYtest\u001b[0m\u001b[0;34m,\u001b[0m\u001b[0mclf\u001b[0m\u001b[0;34m.\u001b[0m\u001b[0mdecision_function\u001b[0m\u001b[0;34m(\u001b[0m\u001b[0mXtest\u001b[0m\u001b[0;34m)\u001b[0m\u001b[0;34m)\u001b[0m\u001b[0;34m\u001b[0m\u001b[0;34m\u001b[0m\u001b[0m\n\u001b[1;32m     13\u001b[0m     \u001b[0mprint\u001b[0m\u001b[0;34m(\u001b[0m\u001b[0;34m\"%s 's testing accuracy %f, recall is %f', auc is %f\"\u001b[0m \u001b[0;34m%\u001b[0m \u001b[0;34m(\u001b[0m\u001b[0mkernel\u001b[0m\u001b[0;34m,\u001b[0m\u001b[0mscore\u001b[0m\u001b[0;34m,\u001b[0m\u001b[0mrecall\u001b[0m\u001b[0;34m,\u001b[0m\u001b[0mauc\u001b[0m\u001b[0;34m)\u001b[0m\u001b[0;34m)\u001b[0m\u001b[0;34m\u001b[0m\u001b[0;34m\u001b[0m\u001b[0m\n",
            "\u001b[0;32m/usr/local/lib/python3.7/dist-packages/sklearn/metrics/_classification.py\u001b[0m in \u001b[0;36mrecall_score\u001b[0;34m(y_true, y_pred, labels, pos_label, average, sample_weight, zero_division)\u001b[0m\n\u001b[1;32m   1907\u001b[0m         \u001b[0mwarn_for\u001b[0m\u001b[0;34m=\u001b[0m\u001b[0;34m(\u001b[0m\u001b[0;34m\"recall\"\u001b[0m\u001b[0;34m,\u001b[0m\u001b[0;34m)\u001b[0m\u001b[0;34m,\u001b[0m\u001b[0;34m\u001b[0m\u001b[0;34m\u001b[0m\u001b[0m\n\u001b[1;32m   1908\u001b[0m         \u001b[0msample_weight\u001b[0m\u001b[0;34m=\u001b[0m\u001b[0msample_weight\u001b[0m\u001b[0;34m,\u001b[0m\u001b[0;34m\u001b[0m\u001b[0;34m\u001b[0m\u001b[0m\n\u001b[0;32m-> 1909\u001b[0;31m         \u001b[0mzero_division\u001b[0m\u001b[0;34m=\u001b[0m\u001b[0mzero_division\u001b[0m\u001b[0;34m,\u001b[0m\u001b[0;34m\u001b[0m\u001b[0;34m\u001b[0m\u001b[0m\n\u001b[0m\u001b[1;32m   1910\u001b[0m     )\n\u001b[1;32m   1911\u001b[0m     \u001b[0;32mreturn\u001b[0m \u001b[0mr\u001b[0m\u001b[0;34m\u001b[0m\u001b[0;34m\u001b[0m\u001b[0m\n",
            "\u001b[0;32m/usr/local/lib/python3.7/dist-packages/sklearn/metrics/_classification.py\u001b[0m in \u001b[0;36mprecision_recall_fscore_support\u001b[0;34m(y_true, y_pred, beta, labels, pos_label, average, warn_for, sample_weight, zero_division)\u001b[0m\n\u001b[1;32m   1542\u001b[0m     \u001b[0;32mif\u001b[0m \u001b[0mbeta\u001b[0m \u001b[0;34m<\u001b[0m \u001b[0;36m0\u001b[0m\u001b[0;34m:\u001b[0m\u001b[0;34m\u001b[0m\u001b[0;34m\u001b[0m\u001b[0m\n\u001b[1;32m   1543\u001b[0m         \u001b[0;32mraise\u001b[0m \u001b[0mValueError\u001b[0m\u001b[0;34m(\u001b[0m\u001b[0;34m\"beta should be >=0 in the F-beta score\"\u001b[0m\u001b[0;34m)\u001b[0m\u001b[0;34m\u001b[0m\u001b[0;34m\u001b[0m\u001b[0m\n\u001b[0;32m-> 1544\u001b[0;31m     \u001b[0mlabels\u001b[0m \u001b[0;34m=\u001b[0m \u001b[0m_check_set_wise_labels\u001b[0m\u001b[0;34m(\u001b[0m\u001b[0my_true\u001b[0m\u001b[0;34m,\u001b[0m \u001b[0my_pred\u001b[0m\u001b[0;34m,\u001b[0m \u001b[0maverage\u001b[0m\u001b[0;34m,\u001b[0m \u001b[0mlabels\u001b[0m\u001b[0;34m,\u001b[0m \u001b[0mpos_label\u001b[0m\u001b[0;34m)\u001b[0m\u001b[0;34m\u001b[0m\u001b[0;34m\u001b[0m\u001b[0m\n\u001b[0m\u001b[1;32m   1545\u001b[0m \u001b[0;34m\u001b[0m\u001b[0m\n\u001b[1;32m   1546\u001b[0m     \u001b[0;31m# Calculate tp_sum, pred_sum, true_sum ###\u001b[0m\u001b[0;34m\u001b[0m\u001b[0;34m\u001b[0m\u001b[0;34m\u001b[0m\u001b[0m\n",
            "\u001b[0;32m/usr/local/lib/python3.7/dist-packages/sklearn/metrics/_classification.py\u001b[0m in \u001b[0;36m_check_set_wise_labels\u001b[0;34m(y_true, y_pred, average, labels, pos_label)\u001b[0m\n\u001b[1;32m   1346\u001b[0m         \u001b[0;32mraise\u001b[0m \u001b[0mValueError\u001b[0m\u001b[0;34m(\u001b[0m\u001b[0;34m\"average has to be one of \"\u001b[0m \u001b[0;34m+\u001b[0m \u001b[0mstr\u001b[0m\u001b[0;34m(\u001b[0m\u001b[0maverage_options\u001b[0m\u001b[0;34m)\u001b[0m\u001b[0;34m)\u001b[0m\u001b[0;34m\u001b[0m\u001b[0;34m\u001b[0m\u001b[0m\n\u001b[1;32m   1347\u001b[0m \u001b[0;34m\u001b[0m\u001b[0m\n\u001b[0;32m-> 1348\u001b[0;31m     \u001b[0my_type\u001b[0m\u001b[0;34m,\u001b[0m \u001b[0my_true\u001b[0m\u001b[0;34m,\u001b[0m \u001b[0my_pred\u001b[0m \u001b[0;34m=\u001b[0m \u001b[0m_check_targets\u001b[0m\u001b[0;34m(\u001b[0m\u001b[0my_true\u001b[0m\u001b[0;34m,\u001b[0m \u001b[0my_pred\u001b[0m\u001b[0;34m)\u001b[0m\u001b[0;34m\u001b[0m\u001b[0;34m\u001b[0m\u001b[0m\n\u001b[0m\u001b[1;32m   1349\u001b[0m     \u001b[0;31m# Convert to Python primitive type to avoid NumPy type / Python str\u001b[0m\u001b[0;34m\u001b[0m\u001b[0;34m\u001b[0m\u001b[0;34m\u001b[0m\u001b[0m\n\u001b[1;32m   1350\u001b[0m     \u001b[0;31m# comparison. See https://github.com/numpy/numpy/issues/6784\u001b[0m\u001b[0;34m\u001b[0m\u001b[0;34m\u001b[0m\u001b[0;34m\u001b[0m\u001b[0m\n",
            "\u001b[0;32m/usr/local/lib/python3.7/dist-packages/sklearn/metrics/_classification.py\u001b[0m in \u001b[0;36m_check_targets\u001b[0;34m(y_true, y_pred)\u001b[0m\n\u001b[1;32m     82\u001b[0m     \u001b[0my_pred\u001b[0m \u001b[0;34m:\u001b[0m \u001b[0marray\u001b[0m \u001b[0;32mor\u001b[0m \u001b[0mindicator\u001b[0m \u001b[0mmatrix\u001b[0m\u001b[0;34m\u001b[0m\u001b[0;34m\u001b[0m\u001b[0m\n\u001b[1;32m     83\u001b[0m     \"\"\"\n\u001b[0;32m---> 84\u001b[0;31m     \u001b[0mcheck_consistent_length\u001b[0m\u001b[0;34m(\u001b[0m\u001b[0my_true\u001b[0m\u001b[0;34m,\u001b[0m \u001b[0my_pred\u001b[0m\u001b[0;34m)\u001b[0m\u001b[0;34m\u001b[0m\u001b[0;34m\u001b[0m\u001b[0m\n\u001b[0m\u001b[1;32m     85\u001b[0m     \u001b[0mtype_true\u001b[0m \u001b[0;34m=\u001b[0m \u001b[0mtype_of_target\u001b[0m\u001b[0;34m(\u001b[0m\u001b[0my_true\u001b[0m\u001b[0;34m)\u001b[0m\u001b[0;34m\u001b[0m\u001b[0;34m\u001b[0m\u001b[0m\n\u001b[1;32m     86\u001b[0m     \u001b[0mtype_pred\u001b[0m \u001b[0;34m=\u001b[0m \u001b[0mtype_of_target\u001b[0m\u001b[0;34m(\u001b[0m\u001b[0my_pred\u001b[0m\u001b[0;34m)\u001b[0m\u001b[0;34m\u001b[0m\u001b[0;34m\u001b[0m\u001b[0m\n",
            "\u001b[0;32m/usr/local/lib/python3.7/dist-packages/sklearn/utils/validation.py\u001b[0m in \u001b[0;36mcheck_consistent_length\u001b[0;34m(*arrays)\u001b[0m\n\u001b[1;32m    332\u001b[0m         raise ValueError(\n\u001b[1;32m    333\u001b[0m             \u001b[0;34m\"Found input variables with inconsistent numbers of samples: %r\"\u001b[0m\u001b[0;34m\u001b[0m\u001b[0;34m\u001b[0m\u001b[0m\n\u001b[0;32m--> 334\u001b[0;31m             \u001b[0;34m%\u001b[0m \u001b[0;34m[\u001b[0m\u001b[0mint\u001b[0m\u001b[0;34m(\u001b[0m\u001b[0ml\u001b[0m\u001b[0;34m)\u001b[0m \u001b[0;32mfor\u001b[0m \u001b[0ml\u001b[0m \u001b[0;32min\u001b[0m \u001b[0mlengths\u001b[0m\u001b[0;34m]\u001b[0m\u001b[0;34m\u001b[0m\u001b[0;34m\u001b[0m\u001b[0m\n\u001b[0m\u001b[1;32m    335\u001b[0m         )\n\u001b[1;32m    336\u001b[0m \u001b[0;34m\u001b[0m\u001b[0m\n",
            "\u001b[0;31mValueError\u001b[0m: Found input variables with inconsistent numbers of samples: [5131, 806]"
          ]
        }
      ]
    },
    {
      "cell_type": "code",
      "source": [
        "result"
      ],
      "metadata": {
        "colab": {
          "base_uri": "https://localhost:8080/"
        },
        "id": "r8j5KlP7QtVa",
        "outputId": "8102e361-80e9-41c8-8117-b7c906cbab99"
      },
      "execution_count": null,
      "outputs": [
        {
          "output_type": "execute_result",
          "data": {
            "text/plain": [
              "array([1, 0, 0, 0, 1, 1, 1, 1, 1, 0, 1, 1, 1, 1, 1, 0, 1, 0, 1, 0, 1, 1,\n",
              "       1, 0, 1, 1, 1, 0, 1, 1, 0, 1, 0, 1, 1, 0, 0, 0, 0, 1, 0, 0, 0, 0,\n",
              "       0, 1, 0, 0, 0, 1, 0, 1, 0, 0, 0, 1, 0, 1, 0, 0, 1, 1, 0, 1, 1, 1,\n",
              "       1, 1, 0, 1, 0, 0, 1, 0, 1, 1, 0, 1, 0, 0, 1, 1, 1, 1, 1, 0, 1, 0,\n",
              "       1, 1, 1, 0, 0, 1, 1, 1, 1, 0, 1, 1, 1, 1, 0, 0, 0, 0, 0, 0, 0, 0,\n",
              "       1, 0, 1, 0, 0, 0, 0, 0, 0, 1, 1, 1, 1, 0, 0, 1, 0, 1, 0, 0, 1, 0,\n",
              "       0, 0, 1, 1, 0, 0, 1, 1, 0, 0, 0, 0, 1, 0, 1, 1, 0, 1, 0, 1, 0, 1,\n",
              "       1, 0, 0, 1, 0, 0, 1, 0, 0, 0, 0, 0, 0, 1, 0, 0, 0, 0, 0, 1, 1, 1,\n",
              "       1, 1, 1, 1, 0, 0, 1, 0, 1, 1, 1, 1, 0, 1, 0, 1, 1, 0, 1, 1, 1, 0,\n",
              "       0, 1, 0, 1, 0, 0, 0, 0, 1, 0, 0, 0, 0, 1, 0, 1, 1, 0, 1, 0, 1, 0,\n",
              "       0, 0, 0, 1, 0, 0, 0, 1, 1, 1, 0, 1, 0, 0, 1, 1, 1, 0, 0, 1, 1, 0,\n",
              "       1, 0, 1, 0, 0, 0, 1, 0, 1, 1, 1, 0, 1, 1, 0, 1, 0, 1, 0, 1, 1, 1,\n",
              "       1, 1, 0, 1, 1, 1, 0, 1, 1, 1, 1, 1, 1, 1, 1, 0, 0, 0, 1, 0, 1, 1,\n",
              "       1, 0, 1, 0, 1, 1, 1, 0, 1, 1, 0, 0, 1, 0, 1, 1, 0, 1, 0, 0, 1, 1,\n",
              "       1, 1, 1, 0, 0, 1, 1, 0, 0, 1, 0, 1, 1, 1, 0, 0, 0, 0, 1, 0, 0, 0,\n",
              "       0, 0, 0, 0, 0, 1, 0, 0, 0, 1, 1, 1, 0, 0, 1, 1, 1, 0, 0, 1, 0, 0,\n",
              "       1, 1, 0, 1, 1, 1, 1, 0, 0, 1, 1, 1, 1, 1, 1, 0, 1, 1, 1, 0, 0, 1,\n",
              "       0, 1, 1, 1, 1, 1, 1, 0, 1, 1, 1, 1, 1, 1, 0, 0, 0, 1, 1, 0, 1, 1,\n",
              "       1, 0, 0, 1, 1, 0, 1, 1, 1, 1, 1, 0, 1, 0, 1, 0, 0, 1, 0, 1, 0, 0,\n",
              "       1, 1, 0, 0, 1, 1, 1, 0, 1, 0, 0, 0, 1, 1, 1, 1, 1, 0, 1, 1, 1, 1,\n",
              "       1, 0, 0, 1, 0, 1, 0, 0, 0, 1, 0, 1, 0, 1, 0, 0, 0, 1, 1, 0, 1, 1,\n",
              "       0, 1, 1, 0, 0, 0, 0, 1, 1, 1, 0, 0, 0, 1, 1, 0, 0, 0, 0, 1, 0, 1,\n",
              "       1, 0, 0, 1, 1, 0, 0, 1, 0, 1, 1, 0, 1, 1, 1, 0, 1, 1, 0, 1, 1, 1,\n",
              "       1, 0, 1, 1, 1, 0, 0, 1, 0, 1, 1, 0, 1, 1, 1, 1, 0, 0, 0, 0, 1, 0,\n",
              "       1, 0, 1, 1, 1, 0, 0, 1, 0, 1, 0, 1, 0, 0, 0, 0, 0, 1, 0, 0, 0, 0,\n",
              "       0, 0, 1, 1, 0, 1, 0, 1, 1, 1, 1, 1, 1, 0, 0, 1, 1, 1, 1, 1, 1, 0,\n",
              "       0, 0, 1, 1, 1, 0, 0, 0, 1, 0, 0, 0, 0, 0, 1, 1, 0, 1, 1, 1, 1, 1,\n",
              "       0, 0, 0, 0, 1, 1, 0, 0, 0, 0, 0, 1, 0, 0, 0, 0, 0, 0, 0, 0, 0, 1,\n",
              "       0, 0, 0, 1, 0, 0, 0, 0, 0, 1, 0, 0, 0, 0, 0, 0, 0, 1, 0, 0, 1, 1,\n",
              "       0, 0, 0, 0, 0, 0, 0, 0, 1, 0, 1, 0, 1, 1, 0, 0, 1, 0, 1, 1, 0, 0,\n",
              "       0, 0, 1, 0, 1, 0, 0, 0, 0, 0, 1, 0, 0, 1, 0, 0, 0, 0, 1, 1, 1, 1,\n",
              "       0, 0, 0, 0, 0, 1, 0, 0, 0, 0, 1, 1, 0, 0, 1, 0, 0, 1, 1, 0, 1, 1,\n",
              "       0, 1, 1, 1, 0, 1, 1, 0, 1, 1, 1, 1, 1, 1, 1, 0, 1, 1, 1, 1, 1, 0,\n",
              "       1, 0, 1, 0, 1, 0, 1, 1, 0, 0, 0, 0, 0, 1, 0, 0, 1, 0, 0, 0, 0, 0,\n",
              "       0, 0, 0, 0, 0, 0, 0, 0, 1, 0, 1, 0, 1, 0, 1, 0, 1, 1, 1, 1, 1, 1,\n",
              "       0, 0, 0, 1, 1, 0, 1, 0, 0, 0, 0, 0, 1, 1, 1, 1, 1, 0, 0, 1, 1, 1,\n",
              "       0, 0, 1, 0, 1, 1, 0, 1, 0, 0, 0, 0, 1, 0])"
            ]
          },
          "metadata": {},
          "execution_count": 125
        }
      ]
    },
    {
      "cell_type": "code",
      "source": [
        "import csv\n",
        "with open('test.csv', 'x') as f: \n",
        "    f.write('id,ans\\n') \n",
        "    for i in range(len(result)): \n",
        "        f.write(str(float(i)) + ',' + str(int(result[i])) + '\\n')"
      ],
      "metadata": {
        "id": "cUuHO61hQ0ij"
      },
      "execution_count": null,
      "outputs": []
    }
  ]
}